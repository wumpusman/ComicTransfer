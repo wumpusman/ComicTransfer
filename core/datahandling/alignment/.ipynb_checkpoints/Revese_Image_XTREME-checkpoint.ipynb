{
 "cells": [
  {
   "cell_type": "code",
   "execution_count": 18,
   "metadata": {
    "collapsed": true
   },
   "outputs": [],
   "source": [
    "import selenium\n",
    "import requests\n",
    "import time\n",
    "from selenium import webdriver\n",
    "from selenium.webdriver.common.keys import Keys\n",
    "from bs4 import BeautifulSoup\n",
    "import lxml\n",
    "import requests\n",
    "from lxml import html\n",
    "\n",
    "import os\n",
    "import sys\n",
    "import urllib\n",
    "import pandas as pd"
   ]
  },
  {
   "cell_type": "code",
   "execution_count": 44,
   "metadata": {},
   "outputs": [],
   "source": [
    "import cv2"
   ]
  },
  {
   "cell_type": "code",
   "execution_count": 9,
   "metadata": {},
   "outputs": [],
   "source": [
    "JS_DROP_FILE = \"\"\"\n",
    "    var target = arguments[0],\n",
    "        offsetX = arguments[1],\n",
    "        offsetY = arguments[2],\n",
    "        document = target.ownerDocument || document,\n",
    "        window = document.defaultView || window;\n",
    "\n",
    "    var input = document.createElement('INPUT');\n",
    "    input.type = 'file';\n",
    "    input.onchange = function () {\n",
    "      var rect = target.getBoundingClientRect(),\n",
    "          x = rect.left + (offsetX || (rect.width >> 1)),\n",
    "          y = rect.top + (offsetY || (rect.height >> 1)),\n",
    "          dataTransfer = { files: this.files };\n",
    "\n",
    "      ['dragenter', 'dragover', 'drop'].forEach(function (name) {\n",
    "        var evt = document.createEvent('MouseEvent');\n",
    "        evt.initMouseEvent(name, !0, !0, window, 0, 0, 0, x, y, !1, !1, !1, !1, 0, null);\n",
    "        evt.dataTransfer = dataTransfer;\n",
    "        target.dispatchEvent(evt);\n",
    "      });\n",
    "\n",
    "      setTimeout(function () { document.body.removeChild(input); }, 25);\n",
    "    };\n",
    "    document.body.appendChild(input);\n",
    "    return input;\n",
    "\"\"\"\n",
    "\n",
    "def drag_and_drop_file(drop_target, path):\n",
    "    driver = drop_target.parent\n",
    "    file_input = driver.execute_script(JS_DROP_FILE, drop_target, 0, 0)\n",
    "    file_input.send_keys(path)"
   ]
  },
  {
   "cell_type": "code",
   "execution_count": 40,
   "metadata": {},
   "outputs": [],
   "source": [
    "def colorScore(img1, img2):\n",
    "    abs_sum_error=0\n",
    "    abs_sum_error+=math.fabs(img1.T[0].mean()-img2.T[0].mean())\n",
    "    abs_sum_error+=math.fabs(img1.T[1].mean()-img2.T[1].mean())\n",
    "    abs_sum_error+=math.fabs(img1.T[2].mean()-img2.T[2].mean())\n",
    "    return abs_sum_error\n",
    "\n",
    "def keyPointScore(img1,img2):\n",
    "    orb = cv2.ORB_create() \n",
    "    queryKeypoints, queryDescriptors = orb.detectAndCompute(img1,None) \n",
    "    trainKeypoints, trainDescriptors = orb.detectAndCompute(img2,None) \n",
    "    matcher = cv2.BFMatcher() \n",
    "    matches = matcher.match(queryDescriptors,trainDescriptors) \n",
    "    sums=0.0\n",
    "    for match in matches:\n",
    "        sums+=match.distance\n",
    "    return sums\n"
   ]
  },
  {
   "cell_type": "code",
   "execution_count": 27,
   "metadata": {},
   "outputs": [],
   "source": [
    "def getInformation(url:str):\n",
    "    \n",
    "    # Getting the webpage, creating a Response object.\n",
    "    response = requests.get(url)\n",
    "    \n",
    "    # Extracting the source code of the page.\n",
    "    data = response.text\n",
    "    \n",
    "    # Passing the source code to BeautifulSoup to create a BeautifulSoup object for it.\n",
    "    soup = BeautifulSoup(data, 'html.parser')\n",
    "        \n",
    "    caption = soup.findAll(\"div\", {\"class\": \"asset-description__caption\"})\n",
    "    tags = soup.findAll(\"li\", {\"class\": \"asset-keywords-list__item\"})\n",
    "    imgur=soup.findAll(\"img\", {\"class\": \"asset-card__image\"})\n",
    "    caption_str=\"\"\n",
    "    try:\n",
    "        caption_str:str=caption[0].getText()\n",
    "    except:\n",
    "        pass\n",
    "    tag_list:str=\",\".join([tag.getText().replace(\",\",\"\") for tag in tags])\n",
    "    img_link=imgur[0][\"src\"]\n",
    "    dictionary:{}={}\n",
    "    dictionary[\"img_url\"]=img_link\n",
    "    dictionary[\"tags\"]=tag_list\n",
    "    dictionary[\"caption\"]=caption_str\n",
    "    return  dictionary\n",
    "\n"
   ]
  },
  {
   "cell_type": "code",
   "execution_count": 11,
   "metadata": {},
   "outputs": [],
   "source": [
    "def saveImg(dir,original_img, name, urlLink):\n",
    "        if not os.path.exists(dir):\n",
    "            os.makedirs(dir) \n",
    "            \n",
    "        subpath:str= os.path.join(dir,original_img)\n",
    "        if not os.path.exists(subpath):\n",
    "            os.makedirs(subpath) \n",
    "            \n",
    "        file_name_path:str=os.path.join(subpath,name)+\".jpg\"\n",
    "        \n",
    "        img_url:str=urlLink.replace(\"?s=2048x2048\",\"\") #+\".jpg\"  \n",
    "\n",
    "        urllib.request.urlretrieve(img_url, file_name_path)"
   ]
  },
  {
   "cell_type": "code",
   "execution_count": 12,
   "metadata": {},
   "outputs": [],
   "source": [
    "\n",
    "driver = webdriver.Chrome('/Users/computer/PycharmProjects/anti_bullying/chromedriver')\n",
    "driver.get(\"https://www.gettyimages.co.uk/\")\n",
    "bah=driver.find_element_by_id('btnImageSearch').click()\n",
    "time.sleep(2)\n",
    "el=driver.find_element_by_css_selector(\"[ngf-drop^='dragDropUpload']\")\n",
    "path ='/Users/computer/Downloads/01235.png'\n",
    "\n",
    "drag_and_drop_file(el,path)"
   ]
  },
  {
   "cell_type": "code",
   "execution_count": 7,
   "metadata": {},
   "outputs": [],
   "source": [
    ""
   ]
  },
  {
   "cell_type": "code",
   "execution_count": 13,
   "metadata": {},
   "outputs": [],
   "source": [
    "topN_images=driver.find_elements_by_class_name(\"gallery-mosaic-asset__link\")\n",
    "\n",
    "max:int=6\n",
    "\n",
    "if len(topN_images)<max: max=len(topN_images)\n",
    "\n",
    "linkInfo=[]\n",
    "\n",
    "for image in topN_images[:max]:\n",
    "\n",
    "    linkInfo.append({\"url\":image.get_attribute(\"href\")})\n",
    "    \n",
    "    "
   ]
  },
  {
   "cell_type": "code",
   "execution_count": 28,
   "metadata": {},
   "outputs": [
    {
     "name": "stdout",
     "output_type": "stream",
     "text": [
      "https://www.gettyimages.co.uk/detail/photo/come-on-you-can-do-it-royalty-free-image/185288341\n"
     ]
    },
    {
     "name": "stdout",
     "output_type": "stream",
     "text": [
      "next\nhttps://www.gettyimages.co.uk/detail/photo/ecstatic-young-man-gesturing-thumbs-up-isolated-royalty-free-image/175454964\n"
     ]
    },
    {
     "name": "stdout",
     "output_type": "stream",
     "text": [
      "next\nhttps://www.gettyimages.co.uk/detail/photo/portrait-of-funny-mature-businessman-royalty-free-image/1163453266\n"
     ]
    },
    {
     "name": "stdout",
     "output_type": "stream",
     "text": [
      "next\nhttps://www.gettyimages.co.uk/detail/photo/cheerful-arab-man-walking-with-arms-raised-towards-royalty-free-image/1050607276\n"
     ]
    },
    {
     "name": "stdout",
     "output_type": "stream",
     "text": [
      "next\nhttps://www.gettyimages.co.uk/detail/photo/feel-fantastic-royalty-free-image/185221981\n"
     ]
    },
    {
     "name": "stdout",
     "output_type": "stream",
     "text": [
      "next\nhttps://www.gettyimages.co.uk/detail/photo/giving-a-thumbs-up-in-approval-royalty-free-image/1050604302\n"
     ]
    },
    {
     "name": "stdout",
     "output_type": "stream",
     "text": [
      "next\n"
     ]
    }
   ],
   "source": [
    "\n",
    "\n",
    "for link in linkInfo:\n",
    "    \n",
    "   url=link[\"url\"]\n",
    "   print(url)\n",
    "   time.sleep(3)\n",
    "   link.update(getInformation(url))\n",
    "   print(\"next\")"
   ]
  },
  {
   "cell_type": "code",
   "execution_count": 42,
   "metadata": {
    "collapsed": true
   },
   "outputs": [
    {
     "name": "stdout",
     "output_type": "stream",
     "text": [
      "saving Image\n"
     ]
    },
    {
     "name": "stdout",
     "output_type": "stream",
     "text": [
      "saving Image\n"
     ]
    },
    {
     "name": "stdout",
     "output_type": "stream",
     "text": [
      "saving Image\n"
     ]
    },
    {
     "name": "stdout",
     "output_type": "stream",
     "text": [
      "saving Image\n"
     ]
    },
    {
     "name": "stdout",
     "output_type": "stream",
     "text": [
      "saving Image\n"
     ]
    },
    {
     "name": "stdout",
     "output_type": "stream",
     "text": [
      "saving Image\nsaving Misc Info as a clean csv file\n"
     ]
    }
   ],
   "source": [
    "projectPath=\"/Users/computer/Downloads/Hateful_Memes_Project/ExampleProject\"\n",
    "elementName=\"01235.png\"#the original png\n",
    "\n",
    "for counter,link in zip([i for i in range(len(linkInfo))],linkInfo):\n",
    "    link[\"src\"]=elementName\n",
    "    link[\"id\"]=str(counter+1)\n",
    "    time.sleep(2)\n",
    "    print(\"saving Image\")\n",
    "    saveImg(projectPath,elementName,link[\"id\"],link[\"img_url\"])\n",
    "\n",
    "print (\"saving Misc Info as a clean csv file\")\n"
   ]
  },
  {
   "cell_type": "code",
   "execution_count": 37,
   "metadata": {},
   "outputs": [],
   "source": [
    "\n",
    "subpath:str= os.path.join(projectPath,elementName) #directory to save\n",
    "all_info=pd.DataFrame(linkInfo)\n",
    "all_info.to_csv(os.path.join(subpath,\"related_info.tsv\"),sep=\"\\t\")"
   ]
  },
  {
   "cell_type": "code",
   "execution_count": 39,
   "metadata": {},
   "outputs": [
    {
     "data": {
      "text/plain": [
       "0    1\n1    2\n2    3\n3    4\n4    5\n5    6\nName: id, dtype: object"
      ]
     },
     "execution_count": 39,
     "metadata": {},
     "output_type": "execute_result"
    }
   ],
   "source": [
    "original=\"01235.png\"\n",
    "target_imgs=all_info[\"id\"].values"
   ]
  },
  {
   "cell_type": "code",
   "execution_count": 43,
   "metadata": {},
   "outputs": [
    {
     "ename": "NameError",
     "evalue": "name 'cv2' is not defined",
     "traceback": [
      "\u001b[0;31m---------------------------------------------------------------------------\u001b[0m",
      "\u001b[0;31mNameError\u001b[0m                                 Traceback (most recent call last)",
      "\u001b[0;32m<ipython-input-43-551c223376c4>\u001b[0m in \u001b[0;36m<module>\u001b[0;34m\u001b[0m\n\u001b[0;32m----> 1\u001b[0;31m \u001b[0msrc_img\u001b[0m \u001b[0;34m=\u001b[0m \u001b[0mcv2\u001b[0m\u001b[0;34m.\u001b[0m\u001b[0mimread\u001b[0m\u001b[0;34m(\u001b[0m\u001b[0moriginal\u001b[0m\u001b[0;34m.\u001b[0m\u001b[0mreplace\u001b[0m\u001b[0;34m(\u001b[0m\u001b[0;34m\".png\"\u001b[0m\u001b[0;34m,\u001b[0m\u001b[0;34m\"\"\u001b[0m\u001b[0;34m)\u001b[0m\u001b[0;34m,\u001b[0m \u001b[0mcv2\u001b[0m\u001b[0;34m.\u001b[0m\u001b[0mIMREAD_COLOR\u001b[0m\u001b[0;34m)\u001b[0m  \u001b[0;31m# trainImage\u001b[0m\u001b[0;34m\u001b[0m\u001b[0;34m\u001b[0m\u001b[0m\n\u001b[0m\u001b[1;32m      2\u001b[0m \u001b[0mcolor_scores\u001b[0m\u001b[0;34m=\u001b[0m\u001b[0;34m[\u001b[0m\u001b[0;34m]\u001b[0m\u001b[0;34m\u001b[0m\u001b[0;34m\u001b[0m\u001b[0m\n\u001b[1;32m      3\u001b[0m \u001b[0mkey_point_scores\u001b[0m\u001b[0;34m=\u001b[0m\u001b[0;34m[\u001b[0m\u001b[0;34m]\u001b[0m\u001b[0;34m\u001b[0m\u001b[0;34m\u001b[0m\u001b[0m\n\u001b[1;32m      4\u001b[0m \u001b[0;32mfor\u001b[0m \u001b[0mimg_name\u001b[0m \u001b[0;32min\u001b[0m \u001b[0mtarget_imgs\u001b[0m\u001b[0;34m:\u001b[0m\u001b[0;34m\u001b[0m\u001b[0;34m\u001b[0m\u001b[0m\n\u001b[1;32m      5\u001b[0m     \u001b[0mimg1\u001b[0m \u001b[0;34m=\u001b[0m \u001b[0mcv2\u001b[0m\u001b[0;34m.\u001b[0m\u001b[0mimread\u001b[0m\u001b[0;34m(\u001b[0m\u001b[0moriginal\u001b[0m\u001b[0;34m.\u001b[0m\u001b[0mreplace\u001b[0m\u001b[0;34m(\u001b[0m\u001b[0;34m\".png\"\u001b[0m\u001b[0;34m,\u001b[0m\u001b[0;34m\"\"\u001b[0m\u001b[0;34m)\u001b[0m\u001b[0;34m+\u001b[0m\u001b[0;34m\"/\"\u001b[0m\u001b[0;34m+\u001b[0m\u001b[0mstr\u001b[0m\u001b[0;34m(\u001b[0m\u001b[0mimg_name\u001b[0m\u001b[0;34m)\u001b[0m\u001b[0;34m+\u001b[0m\u001b[0;34m\".jpg\"\u001b[0m\u001b[0;34m,\u001b[0m \u001b[0mcv2\u001b[0m\u001b[0;34m.\u001b[0m\u001b[0mIMREAD_COLOR\u001b[0m\u001b[0;34m)\u001b[0m           \u001b[0;31m# queryImage\u001b[0m\u001b[0;34m\u001b[0m\u001b[0;34m\u001b[0m\u001b[0m\n",
      "\u001b[0;31mNameError\u001b[0m: name 'cv2' is not defined"
     ],
     "output_type": "error"
    }
   ],
   "source": [
    "####SEEE Test Similarity Script - this is broken :(\n",
    "src_img = cv2.imread(original.replace(\".png\",\"\"), cv2.IMREAD_COLOR)  # trainImage\n",
    "color_scores=[]\n",
    "key_point_scores=[]\n",
    "for img_name in target_imgs:\n",
    "    img1 = cv2.imread(original.replace(\".png\",\"\")+\"/\"+str(img_name)+\".jpg\", cv2.IMREAD_COLOR)           # queryImage\n",
    "\n",
    "    img1=cv2.resize(img1,(500,500))\n",
    "    img2=cv2.resize(src_img,(500,500))\n",
    "    \n",
    "    color_score=colorScore(img1,img2)\n",
    "    key_point_score=keyPointScore(img1,img2)\n",
    "    color_scores.append(color_score)\n",
    "    key_point_scores.append(key_point_score)"
   ]
  },
  {
   "cell_type": "code",
   "execution_count": null,
   "metadata": {},
   "outputs": [],
   "source": []
  }
 ],
 "metadata": {
  "kernelspec": {
   "display_name": "Python 2",
   "language": "python",
   "name": "python2"
  },
  "language_info": {
   "codemirror_mode": {
    "name": "ipython",
    "version": 2
   },
   "file_extension": ".py",
   "mimetype": "text/x-python",
   "name": "python",
   "nbconvert_exporter": "python",
   "pygments_lexer": "ipython2",
   "version": "2.7.6"
  }
 },
 "nbformat": 4,
 "nbformat_minor": 0
}
