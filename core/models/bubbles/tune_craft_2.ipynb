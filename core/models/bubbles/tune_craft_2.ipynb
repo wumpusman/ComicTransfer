{
 "cells": [
  {
   "cell_type": "code",
   "execution_count": 27,
   "metadata": {},
   "outputs": [],
   "source": [
    "#create data loader "
   ]
  },
  {
   "cell_type": "code",
   "execution_count": 102,
   "metadata": {},
   "outputs": [],
   "source": [
    "#create loss loss function\n"
   ]
  },
  {
   "cell_type": "code",
   "execution_count": null,
   "metadata": {},
   "outputs": [],
   "source": [
    "#!pkill \n",
    "!kill -9 32593               \n"
   ]
  },
  {
   "cell_type": "code",
   "execution_count": 1,
   "metadata": {},
   "outputs": [
    {
     "name": "stdout",
     "output_type": "stream",
     "text": [
      "Sun Sep 27 20:19:58 2020       \n",
      "+-----------------------------------------------------------------------------+\n",
      "| NVIDIA-SMI 418.87.01    Driver Version: 418.87.01    CUDA Version: 10.1     |\n",
      "|-------------------------------+----------------------+----------------------+\n",
      "| GPU  Name        Persistence-M| Bus-Id        Disp.A | Volatile Uncorr. ECC |\n",
      "| Fan  Temp  Perf  Pwr:Usage/Cap|         Memory-Usage | GPU-Util  Compute M. |\n",
      "|===============================+======================+======================|\n",
      "|   0  Tesla T4            Off  | 00000000:00:04.0 Off |                    0 |\n",
      "| N/A   68C    P0    31W /  70W |   1593MiB / 15079MiB |      0%      Default |\n",
      "+-------------------------------+----------------------+----------------------+\n",
      "                                                                               \n",
      "+-----------------------------------------------------------------------------+\n",
      "| Processes:                                                       GPU Memory |\n",
      "|  GPU       PID   Type   Process name                             Usage      |\n",
      "|=============================================================================|\n",
      "|    0      2239      C   /opt/conda/bin/python                       1583MiB |\n",
      "+-----------------------------------------------------------------------------+\n"
     ]
    }
   ],
   "source": [
    "!nvidia-smi"
   ]
  },
  {
   "cell_type": "code",
   "execution_count": 2,
   "metadata": {},
   "outputs": [],
   "source": [
    "import numpy as np\n",
    "def draw_image(img:np.array):\n",
    "    from matplotlib.pyplot import imshow\n",
    "    from matplotlib.pyplot import imshow\n",
    "    from matplotlib import pyplot as plt\n",
    "    import pandas as pd \n",
    "    %matplotlib inline\n",
    "    #imshow(y[0].T[0].T.cpu().detach().numpy())\n",
    "\n",
    "    fig, ax = plt.subplots(1, 1, figsize=(16, 8))\n",
    "    ax.set_axis_off()\n",
    "    ax.imshow(img)\n",
    "    "
   ]
  },
  {
   "cell_type": "code",
   "execution_count": null,
   "metadata": {},
   "outputs": [],
   "source": [
    "   "
   ]
  },
  {
   "cell_type": "code",
   "execution_count": null,
   "metadata": {},
   "outputs": [],
   "source": []
  },
  {
   "cell_type": "raw",
   "metadata": {},
   "source": []
  },
  {
   "cell_type": "code",
   "execution_count": 3,
   "metadata": {},
   "outputs": [],
   "source": [
    "%matplotlib inline\n",
    "%load_ext autoreload\n",
    "\n",
    "%reload_ext autoreload\n",
    "%autoreload 2\n",
    "\n",
    "%matplotlib inline"
   ]
  },
  {
   "cell_type": "code",
   "execution_count": 4,
   "metadata": {},
   "outputs": [],
   "source": [
    "from datahandler_img import DatasetImgCraftDefault\n",
    "import datahandler_img\n",
    "import torch"
   ]
  },
  {
   "cell_type": "code",
   "execution_count": 5,
   "metadata": {},
   "outputs": [],
   "source": [
    "from craft_text_detector import Craft"
   ]
  },
  {
   "cell_type": "code",
   "execution_count": 6,
   "metadata": {},
   "outputs": [],
   "source": [
    "import copy"
   ]
  },
  {
   "cell_type": "code",
   "execution_count": 7,
   "metadata": {},
   "outputs": [],
   "source": [
    "torch.cuda.empty_cache()"
   ]
  },
  {
   "cell_type": "code",
   "execution_count": 8,
   "metadata": {},
   "outputs": [],
   "source": [
    "craft = Craft(output_dir=\"pointless\", crop_type=\"box\", cuda=True, text_threshold=.4,link_threshold=.4,low_text=.4)\n"
   ]
  },
  {
   "cell_type": "code",
   "execution_count": 9,
   "metadata": {},
   "outputs": [],
   "source": [
    "base_model=copy.deepcopy(craft.craft_net)\n"
   ]
  },
  {
   "cell_type": "code",
   "execution_count": 10,
   "metadata": {},
   "outputs": [
    {
     "name": "stdout",
     "output_type": "stream",
     "text": [
      "great\n"
     ]
    }
   ],
   "source": [
    "test_handler=DatasetImgCraftDefault(base_model,\"baby_set2/\")"
   ]
  },
  {
   "cell_type": "code",
   "execution_count": 11,
   "metadata": {},
   "outputs": [],
   "source": [
    "model_train=copy.deepcopy(craft.craft_net)\n",
    "craft.unload_craftnet_model()"
   ]
  },
  {
   "cell_type": "code",
   "execution_count": 12,
   "metadata": {},
   "outputs": [],
   "source": [
    "torch.cuda.empty_cache() "
   ]
  },
  {
   "cell_type": "code",
   "execution_count": null,
   "metadata": {},
   "outputs": [],
   "source": []
  },
  {
   "cell_type": "code",
   "execution_count": 13,
   "metadata": {},
   "outputs": [],
   "source": [
    "loader_gen=torch.utils.data.DataLoader(test_handler, batch_size=3, shuffle=False,num_workers=0)"
   ]
  },
  {
   "cell_type": "code",
   "execution_count": null,
   "metadata": {},
   "outputs": [],
   "source": []
  },
  {
   "cell_type": "code",
   "execution_count": null,
   "metadata": {},
   "outputs": [],
   "source": []
  },
  {
   "cell_type": "code",
   "execution_count": null,
   "metadata": {},
   "outputs": [],
   "source": []
  },
  {
   "cell_type": "code",
   "execution_count": 14,
   "metadata": {},
   "outputs": [],
   "source": [
    "import torch.nn as nn\n",
    "import torch.nn.functional as F\n",
    "\n",
    "lossType=nn.L1Loss(reduction=\"sum\")"
   ]
  },
  {
   "cell_type": "code",
   "execution_count": 15,
   "metadata": {},
   "outputs": [],
   "source": [
    "from train_model import TrainModel\n",
    "from train_model import TrainWithFeatureChannels"
   ]
  },
  {
   "cell_type": "code",
   "execution_count": null,
   "metadata": {},
   "outputs": [],
   "source": []
  },
  {
   "cell_type": "code",
   "execution_count": null,
   "metadata": {},
   "outputs": [],
   "source": []
  },
  {
   "cell_type": "code",
   "execution_count": null,
   "metadata": {},
   "outputs": [],
   "source": []
  },
  {
   "cell_type": "code",
   "execution_count": null,
   "metadata": {},
   "outputs": [],
   "source": []
  },
  {
   "cell_type": "code",
   "execution_count": 16,
   "metadata": {},
   "outputs": [],
   "source": [
    "optimizer=torch.optim.Adam(model_train.parameters(),lr=.00001,weight_decay=.0005)"
   ]
  },
  {
   "cell_type": "code",
   "execution_count": null,
   "metadata": {},
   "outputs": [],
   "source": []
  },
  {
   "cell_type": "code",
   "execution_count": 17,
   "metadata": {},
   "outputs": [
    {
     "name": "stdout",
     "output_type": "stream",
     "text": [
      "CPU times: user 0 ns, sys: 0 ns, total: 0 ns\n",
      "Wall time: 13.1 µs\n"
     ]
    }
   ],
   "source": [
    "%%time\n",
    "train_obj=TrainWithFeatureChannels(model_train,lossType)\n"
   ]
  },
  {
   "cell_type": "code",
   "execution_count": 18,
   "metadata": {},
   "outputs": [
    {
     "name": "stdout",
     "output_type": "stream",
     "text": [
      "Sun Sep 27 20:21:12 2020       \n",
      "+-----------------------------------------------------------------------------+\n",
      "| NVIDIA-SMI 418.87.01    Driver Version: 418.87.01    CUDA Version: 10.1     |\n",
      "|-------------------------------+----------------------+----------------------+\n",
      "| GPU  Name        Persistence-M| Bus-Id        Disp.A | Volatile Uncorr. ECC |\n",
      "| Fan  Temp  Perf  Pwr:Usage/Cap|         Memory-Usage | GPU-Util  Compute M. |\n",
      "|===============================+======================+======================|\n",
      "|   0  Tesla T4            Off  | 00000000:00:04.0 Off |                    0 |\n",
      "| N/A   70C    P0    31W /  70W |   2446MiB / 15079MiB |      0%      Default |\n",
      "+-------------------------------+----------------------+----------------------+\n",
      "                                                                               \n",
      "+-----------------------------------------------------------------------------+\n",
      "| Processes:                                                       GPU Memory |\n",
      "|  GPU       PID   Type   Process name                             Usage      |\n",
      "|=============================================================================|\n",
      "|    0      2239      C   /opt/conda/bin/python                       1583MiB |\n",
      "|    0     29711      C   /opt/conda/bin/python                        853MiB |\n",
      "+-----------------------------------------------------------------------------+\n"
     ]
    }
   ],
   "source": [
    "#torch.cuda\n",
    "!nvidia-smi"
   ]
  },
  {
   "cell_type": "code",
   "execution_count": 34,
   "metadata": {},
   "outputs": [
    {
     "name": "stdout",
     "output_type": "stream",
     "text": [
      "channel shape\n",
      "torch.Size([1, 640, 464, 2])\n",
      "torch.Size([1, 640, 464, 2])\n",
      "2882.944\n",
      "channel shape\n",
      "torch.Size([1, 640, 464, 2])\n",
      "torch.Size([1, 640, 464, 2])\n",
      "2874.7017\n",
      "channel shape\n",
      "torch.Size([1, 640, 464, 2])\n",
      "torch.Size([1, 640, 464, 2])\n",
      "2856.8726\n",
      "channel shape\n",
      "torch.Size([1, 640, 464, 2])\n",
      "torch.Size([1, 640, 464, 2])\n",
      "2843.6304\n",
      "channel shape\n",
      "torch.Size([1, 640, 464, 2])\n",
      "torch.Size([1, 640, 464, 2])\n",
      "2834.314\n",
      "channel shape\n",
      "torch.Size([1, 640, 464, 2])\n",
      "torch.Size([1, 640, 464, 2])\n",
      "2826.9497\n",
      "channel shape\n",
      "torch.Size([1, 640, 464, 2])\n",
      "torch.Size([1, 640, 464, 2])\n",
      "2822.42\n",
      "channel shape\n",
      "torch.Size([1, 640, 464, 2])\n",
      "torch.Size([1, 640, 464, 2])\n",
      "2804.0322\n",
      "channel shape\n",
      "torch.Size([1, 640, 464, 2])\n",
      "torch.Size([1, 640, 464, 2])\n",
      "2791.2817\n",
      "channel shape\n",
      "torch.Size([1, 640, 464, 2])\n",
      "torch.Size([1, 640, 464, 2])\n",
      "2789.6738\n",
      "channel shape\n",
      "torch.Size([1, 640, 464, 2])\n",
      "torch.Size([1, 640, 464, 2])\n",
      "2779.2395\n",
      "channel shape\n",
      "torch.Size([1, 640, 464, 2])\n",
      "torch.Size([1, 640, 464, 2])\n",
      "2763.33\n",
      "channel shape\n",
      "torch.Size([1, 640, 464, 2])\n",
      "torch.Size([1, 640, 464, 2])\n",
      "2749.5005\n",
      "channel shape\n",
      "torch.Size([1, 640, 464, 2])\n",
      "torch.Size([1, 640, 464, 2])\n",
      "2741.1094\n",
      "channel shape\n",
      "torch.Size([1, 640, 464, 2])\n",
      "torch.Size([1, 640, 464, 2])\n",
      "2738.7412\n",
      "channel shape\n",
      "torch.Size([1, 640, 464, 2])\n",
      "torch.Size([1, 640, 464, 2])\n",
      "2727.066\n",
      "channel shape\n",
      "torch.Size([1, 640, 464, 2])\n",
      "torch.Size([1, 640, 464, 2])\n",
      "2711.1558\n",
      "channel shape\n",
      "torch.Size([1, 640, 464, 2])\n",
      "torch.Size([1, 640, 464, 2])\n",
      "2703.998\n",
      "channel shape\n",
      "torch.Size([1, 640, 464, 2])\n",
      "torch.Size([1, 640, 464, 2])\n",
      "2698.983\n",
      "channel shape\n",
      "torch.Size([1, 640, 464, 2])\n",
      "torch.Size([1, 640, 464, 2])\n",
      "2686.3396\n",
      "channel shape\n",
      "torch.Size([1, 640, 464, 2])\n",
      "torch.Size([1, 640, 464, 2])\n",
      "2673.541\n",
      "channel shape\n",
      "torch.Size([1, 640, 464, 2])\n",
      "torch.Size([1, 640, 464, 2])\n",
      "2668.6667\n",
      "channel shape\n",
      "torch.Size([1, 640, 464, 2])\n",
      "torch.Size([1, 640, 464, 2])\n",
      "2656.2847\n",
      "channel shape\n",
      "torch.Size([1, 640, 464, 2])\n",
      "torch.Size([1, 640, 464, 2])\n",
      "2645.1362\n",
      "channel shape\n",
      "torch.Size([1, 640, 464, 2])\n",
      "torch.Size([1, 640, 464, 2])\n",
      "2639.7173\n",
      "channel shape\n",
      "torch.Size([1, 640, 464, 2])\n",
      "torch.Size([1, 640, 464, 2])\n",
      "2625.4082\n",
      "channel shape\n",
      "torch.Size([1, 640, 464, 2])\n",
      "torch.Size([1, 640, 464, 2])\n",
      "2616.999\n",
      "channel shape\n",
      "torch.Size([1, 640, 464, 2])\n",
      "torch.Size([1, 640, 464, 2])\n",
      "2611.208\n",
      "channel shape\n",
      "torch.Size([1, 640, 464, 2])\n",
      "torch.Size([1, 640, 464, 2])\n",
      "2598.4038\n",
      "channel shape\n",
      "torch.Size([1, 640, 464, 2])\n",
      "torch.Size([1, 640, 464, 2])\n",
      "2590.003\n",
      "channel shape\n",
      "torch.Size([1, 640, 464, 2])\n",
      "torch.Size([1, 640, 464, 2])\n",
      "2583.499\n",
      "channel shape\n",
      "torch.Size([1, 640, 464, 2])\n",
      "torch.Size([1, 640, 464, 2])\n",
      "2572.7412\n",
      "channel shape\n",
      "torch.Size([1, 640, 464, 2])\n",
      "torch.Size([1, 640, 464, 2])\n",
      "2563.3982\n",
      "channel shape\n",
      "torch.Size([1, 640, 464, 2])\n",
      "torch.Size([1, 640, 464, 2])\n",
      "2558.054\n",
      "channel shape\n",
      "torch.Size([1, 640, 464, 2])\n",
      "torch.Size([1, 640, 464, 2])\n",
      "2547.2634\n",
      "channel shape\n",
      "torch.Size([1, 640, 464, 2])\n",
      "torch.Size([1, 640, 464, 2])\n",
      "2539.283\n",
      "channel shape\n",
      "torch.Size([1, 640, 464, 2])\n",
      "torch.Size([1, 640, 464, 2])\n",
      "2532.2156\n",
      "channel shape\n",
      "torch.Size([1, 640, 464, 2])\n",
      "torch.Size([1, 640, 464, 2])\n",
      "2523.2893\n",
      "channel shape\n",
      "torch.Size([1, 640, 464, 2])\n",
      "torch.Size([1, 640, 464, 2])\n",
      "2513.8816\n",
      "channel shape\n",
      "torch.Size([1, 640, 464, 2])\n",
      "torch.Size([1, 640, 464, 2])\n",
      "2508.1338\n",
      "channel shape\n",
      "torch.Size([1, 640, 464, 2])\n",
      "torch.Size([1, 640, 464, 2])\n",
      "2504.224\n",
      "channel shape\n",
      "torch.Size([1, 640, 464, 2])\n",
      "torch.Size([1, 640, 464, 2])\n",
      "2502.9531\n",
      "channel shape\n",
      "torch.Size([1, 640, 464, 2])\n",
      "torch.Size([1, 640, 464, 2])\n",
      "2502.621\n",
      "channel shape\n",
      "torch.Size([1, 640, 464, 2])\n",
      "torch.Size([1, 640, 464, 2])\n",
      "2495.17\n",
      "channel shape\n",
      "torch.Size([1, 640, 464, 2])\n",
      "torch.Size([1, 640, 464, 2])\n",
      "2476.1738\n",
      "channel shape\n",
      "torch.Size([1, 640, 464, 2])\n",
      "torch.Size([1, 640, 464, 2])\n",
      "2463.0352\n",
      "channel shape\n",
      "torch.Size([1, 640, 464, 2])\n",
      "torch.Size([1, 640, 464, 2])\n",
      "2462.03\n",
      "channel shape\n",
      "torch.Size([1, 640, 464, 2])\n",
      "torch.Size([1, 640, 464, 2])\n",
      "2461.5684\n",
      "channel shape\n",
      "torch.Size([1, 640, 464, 2])\n",
      "torch.Size([1, 640, 464, 2])\n",
      "2457.4258\n",
      "channel shape\n",
      "torch.Size([1, 640, 464, 2])\n",
      "torch.Size([1, 640, 464, 2])\n",
      "2440.5378\n",
      "channel shape\n",
      "torch.Size([1, 640, 464, 2])\n",
      "torch.Size([1, 640, 464, 2])\n",
      "2429.524\n",
      "channel shape\n",
      "torch.Size([1, 640, 464, 2])\n",
      "torch.Size([1, 640, 464, 2])\n",
      "2432.253\n",
      "channel shape\n",
      "torch.Size([1, 640, 464, 2])\n",
      "torch.Size([1, 640, 464, 2])\n",
      "2425.7302\n",
      "channel shape\n",
      "torch.Size([1, 640, 464, 2])\n",
      "torch.Size([1, 640, 464, 2])\n",
      "2410.2983\n",
      "channel shape\n",
      "torch.Size([1, 640, 464, 2])\n",
      "torch.Size([1, 640, 464, 2])\n",
      "2402.304\n",
      "channel shape\n",
      "torch.Size([1, 640, 464, 2])\n",
      "torch.Size([1, 640, 464, 2])\n",
      "2403.882\n",
      "channel shape\n",
      "torch.Size([1, 640, 464, 2])\n",
      "torch.Size([1, 640, 464, 2])\n",
      "2399.921\n",
      "channel shape\n",
      "torch.Size([1, 640, 464, 2])\n",
      "torch.Size([1, 640, 464, 2])\n",
      "2383.9531\n",
      "channel shape\n",
      "torch.Size([1, 640, 464, 2])\n",
      "torch.Size([1, 640, 464, 2])\n",
      "2374.842\n",
      "channel shape\n",
      "torch.Size([1, 640, 464, 2])\n",
      "torch.Size([1, 640, 464, 2])\n",
      "2373.0977\n",
      "channel shape\n",
      "torch.Size([1, 640, 464, 2])\n",
      "torch.Size([1, 640, 464, 2])\n",
      "2368.0117\n",
      "channel shape\n",
      "torch.Size([1, 640, 464, 2])\n",
      "torch.Size([1, 640, 464, 2])\n",
      "2357.3652\n",
      "channel shape\n",
      "torch.Size([1, 640, 464, 2])\n",
      "torch.Size([1, 640, 464, 2])\n",
      "2348.908\n",
      "channel shape\n",
      "torch.Size([1, 640, 464, 2])\n",
      "torch.Size([1, 640, 464, 2])\n",
      "2345.9587\n",
      "channel shape\n",
      "torch.Size([1, 640, 464, 2])\n",
      "torch.Size([1, 640, 464, 2])\n",
      "2343.5637\n",
      "channel shape\n",
      "torch.Size([1, 640, 464, 2])\n",
      "torch.Size([1, 640, 464, 2])\n",
      "2339.185\n",
      "channel shape\n",
      "torch.Size([1, 640, 464, 2])\n",
      "torch.Size([1, 640, 464, 2])\n",
      "2328.1116\n",
      "channel shape\n",
      "torch.Size([1, 640, 464, 2])\n",
      "torch.Size([1, 640, 464, 2])\n",
      "2317.7627\n",
      "channel shape\n",
      "torch.Size([1, 640, 464, 2])\n",
      "torch.Size([1, 640, 464, 2])\n",
      "2314.014\n",
      "channel shape\n",
      "torch.Size([1, 640, 464, 2])\n",
      "torch.Size([1, 640, 464, 2])\n",
      "2311.7793\n",
      "channel shape\n",
      "torch.Size([1, 640, 464, 2])\n",
      "torch.Size([1, 640, 464, 2])\n",
      "2303.4683\n",
      "channel shape\n",
      "torch.Size([1, 640, 464, 2])\n",
      "torch.Size([1, 640, 464, 2])\n",
      "2292.9517\n",
      "channel shape\n",
      "torch.Size([1, 640, 464, 2])\n",
      "torch.Size([1, 640, 464, 2])\n",
      "2287.0845\n",
      "channel shape\n",
      "torch.Size([1, 640, 464, 2])\n",
      "torch.Size([1, 640, 464, 2])\n",
      "2284.098\n",
      "channel shape\n",
      "torch.Size([1, 640, 464, 2])\n",
      "torch.Size([1, 640, 464, 2])\n",
      "2279.3765\n",
      "channel shape\n",
      "torch.Size([1, 640, 464, 2])\n",
      "torch.Size([1, 640, 464, 2])\n",
      "2271.622\n",
      "channel shape\n",
      "torch.Size([1, 640, 464, 2])\n",
      "torch.Size([1, 640, 464, 2])\n",
      "2266.833\n",
      "channel shape\n",
      "torch.Size([1, 640, 464, 2])\n",
      "torch.Size([1, 640, 464, 2])\n",
      "2259.5103\n",
      "channel shape\n",
      "torch.Size([1, 640, 464, 2])\n",
      "torch.Size([1, 640, 464, 2])\n",
      "2251.9348\n",
      "channel shape\n",
      "torch.Size([1, 640, 464, 2])\n",
      "torch.Size([1, 640, 464, 2])\n",
      "2246.145\n",
      "channel shape\n",
      "torch.Size([1, 640, 464, 2])\n",
      "torch.Size([1, 640, 464, 2])\n",
      "2240.2344\n",
      "channel shape\n",
      "torch.Size([1, 640, 464, 2])\n",
      "torch.Size([1, 640, 464, 2])\n",
      "2235.116\n",
      "channel shape\n",
      "torch.Size([1, 640, 464, 2])\n",
      "torch.Size([1, 640, 464, 2])\n",
      "2233.1353\n",
      "channel shape\n",
      "torch.Size([1, 640, 464, 2])\n",
      "torch.Size([1, 640, 464, 2])\n",
      "2233.1357\n",
      "channel shape\n",
      "torch.Size([1, 640, 464, 2])\n",
      "torch.Size([1, 640, 464, 2])\n",
      "2235.1948\n",
      "channel shape\n",
      "torch.Size([1, 640, 464, 2])\n",
      "torch.Size([1, 640, 464, 2])\n",
      "2230.1377\n",
      "channel shape\n",
      "torch.Size([1, 640, 464, 2])\n",
      "torch.Size([1, 640, 464, 2])\n",
      "2218.6672\n",
      "channel shape\n",
      "torch.Size([1, 640, 464, 2])\n",
      "torch.Size([1, 640, 464, 2])\n",
      "2203.5022\n",
      "channel shape\n",
      "torch.Size([1, 640, 464, 2])\n",
      "torch.Size([1, 640, 464, 2])\n",
      "2198.8696\n",
      "channel shape\n",
      "torch.Size([1, 640, 464, 2])\n",
      "torch.Size([1, 640, 464, 2])\n",
      "2199.7627\n",
      "channel shape\n",
      "torch.Size([1, 640, 464, 2])\n",
      "torch.Size([1, 640, 464, 2])\n",
      "2195.8306\n",
      "channel shape\n",
      "torch.Size([1, 640, 464, 2])\n",
      "torch.Size([1, 640, 464, 2])\n",
      "2186.069\n",
      "channel shape\n",
      "torch.Size([1, 640, 464, 2])\n",
      "torch.Size([1, 640, 464, 2])\n",
      "2176.3318\n",
      "channel shape\n",
      "torch.Size([1, 640, 464, 2])\n",
      "torch.Size([1, 640, 464, 2])\n",
      "2175.8933\n",
      "channel shape\n",
      "torch.Size([1, 640, 464, 2])\n",
      "torch.Size([1, 640, 464, 2])\n",
      "2177.4614\n",
      "channel shape\n",
      "torch.Size([1, 640, 464, 2])\n",
      "torch.Size([1, 640, 464, 2])\n",
      "2168.6924\n",
      "channel shape\n",
      "torch.Size([1, 640, 464, 2])\n",
      "torch.Size([1, 640, 464, 2])\n",
      "2158.4011\n",
      "channel shape\n",
      "torch.Size([1, 640, 464, 2])\n",
      "torch.Size([1, 640, 464, 2])\n",
      "2154.2354\n",
      "channel shape\n",
      "torch.Size([1, 640, 464, 2])\n",
      "torch.Size([1, 640, 464, 2])\n",
      "2151.0593\n",
      "channel shape\n",
      "torch.Size([1, 640, 464, 2])\n",
      "torch.Size([1, 640, 464, 2])\n",
      "2152.9417\n",
      "CPU times: user 44.8 s, sys: 27.5 s, total: 1min 12s\n",
      "Wall time: 1min 12s\n"
     ]
    },
    {
     "data": {
      "text/plain": [
       "[2882.944,\n",
       " 2874.7017,\n",
       " 2856.8726,\n",
       " 2843.6304,\n",
       " 2834.314,\n",
       " 2826.9497,\n",
       " 2822.42,\n",
       " 2804.0322,\n",
       " 2791.2817,\n",
       " 2789.6738,\n",
       " 2779.2395,\n",
       " 2763.33,\n",
       " 2749.5005,\n",
       " 2741.1094,\n",
       " 2738.7412,\n",
       " 2727.066,\n",
       " 2711.1558,\n",
       " 2703.998,\n",
       " 2698.983,\n",
       " 2686.3396,\n",
       " 2673.541,\n",
       " 2668.6667,\n",
       " 2656.2847,\n",
       " 2645.1362,\n",
       " 2639.7173,\n",
       " 2625.4082,\n",
       " 2616.999,\n",
       " 2611.208,\n",
       " 2598.4038,\n",
       " 2590.003,\n",
       " 2583.499,\n",
       " 2572.7412,\n",
       " 2563.3982,\n",
       " 2558.054,\n",
       " 2547.2634,\n",
       " 2539.283,\n",
       " 2532.2156,\n",
       " 2523.2893,\n",
       " 2513.8816,\n",
       " 2508.1338,\n",
       " 2504.224,\n",
       " 2502.9531,\n",
       " 2502.621,\n",
       " 2495.17,\n",
       " 2476.1738,\n",
       " 2463.0352,\n",
       " 2462.03,\n",
       " 2461.5684,\n",
       " 2457.4258,\n",
       " 2440.5378,\n",
       " 2429.524,\n",
       " 2432.253,\n",
       " 2425.7302,\n",
       " 2410.2983,\n",
       " 2402.304,\n",
       " 2403.882,\n",
       " 2399.921,\n",
       " 2383.9531,\n",
       " 2374.842,\n",
       " 2373.0977,\n",
       " 2368.0117,\n",
       " 2357.3652,\n",
       " 2348.908,\n",
       " 2345.9587,\n",
       " 2343.5637,\n",
       " 2339.185,\n",
       " 2328.1116,\n",
       " 2317.7627,\n",
       " 2314.014,\n",
       " 2311.7793,\n",
       " 2303.4683,\n",
       " 2292.9517,\n",
       " 2287.0845,\n",
       " 2284.098,\n",
       " 2279.3765,\n",
       " 2271.622,\n",
       " 2266.833,\n",
       " 2259.5103,\n",
       " 2251.9348,\n",
       " 2246.145,\n",
       " 2240.2344,\n",
       " 2235.116,\n",
       " 2233.1353,\n",
       " 2233.1357,\n",
       " 2235.1948,\n",
       " 2230.1377,\n",
       " 2218.6672,\n",
       " 2203.5022,\n",
       " 2198.8696,\n",
       " 2199.7627,\n",
       " 2195.8306,\n",
       " 2186.069,\n",
       " 2176.3318,\n",
       " 2175.8933,\n",
       " 2177.4614,\n",
       " 2168.6924,\n",
       " 2158.4011,\n",
       " 2154.2354,\n",
       " 2151.0593,\n",
       " 2152.9417]"
      ]
     },
     "execution_count": 34,
     "metadata": {},
     "output_type": "execute_result"
    }
   ],
   "source": [
    "%%time\n",
    "\n",
    "train_obj.train(100,loader_gen,optimizer,True)\n",
    "#!nvidia-smi"
   ]
  },
  {
   "cell_type": "code",
   "execution_count": 35,
   "metadata": {},
   "outputs": [
    {
     "name": "stdout",
     "output_type": "stream",
     "text": [
      "CPU times: user 24 ms, sys: 20 ms, total: 44 ms\n",
      "Wall time: 41 ms\n"
     ]
    }
   ],
   "source": [
    "%%time\n",
    "x,y,z=next(iter(loader_gen))\n",
    "y_pred=None\n",
    "with torch.no_grad():\n",
    "    \n",
    "    x=x.permute((1,0,2,3,4))[0]\n",
    "    y_pred=model_train(x)"
   ]
  },
  {
   "cell_type": "code",
   "execution_count": 36,
   "metadata": {},
   "outputs": [
    {
     "data": {
      "text/plain": [
       "torch.Size([1, 1, 32, 640, 464])"
      ]
     },
     "execution_count": 36,
     "metadata": {},
     "output_type": "execute_result"
    }
   ],
   "source": [
    "z.shape"
   ]
  },
  {
   "cell_type": "code",
   "execution_count": null,
   "metadata": {},
   "outputs": [],
   "source": [
    "temp1=x.view(3,3,1280,928)\n",
    "draw_image(temp1.cpu().detach()[0][0])\n",
    "\n"
   ]
  },
  {
   "cell_type": "code",
   "execution_count": 37,
   "metadata": {},
   "outputs": [
    {
     "data": {
      "image/png": "[encoded data removed]",
      "text/plain": [
       "<Figure size 1152x576 with 1 Axes>"
      ]
     },
     "metadata": {
      "needs_background": "light"
     },
     "output_type": "display_data"
    }
   ],
   "source": [
    "draw_image(y_pred[0][0].permute((2,0,1))[0].cpu().detach())"
   ]
  },
  {
   "cell_type": "code",
   "execution_count": null,
   "metadata": {},
   "outputs": [],
   "source": []
  },
  {
   "cell_type": "code",
   "execution_count": 38,
   "metadata": {},
   "outputs": [
    {
     "data": {
      "image/png": "[encoded data removed]",
      "text/plain": [
       "<Figure size 1152x576 with 1 Axes>"
      ]
     },
     "metadata": {
      "needs_background": "light"
     },
     "output_type": "display_data"
    }
   ],
   "source": [
    "draw_image(y[0][0].permute(2,0,1).cpu().detach().numpy()[0])"
   ]
  },
  {
   "cell_type": "code",
   "execution_count": 40,
   "metadata": {},
   "outputs": [
    {
     "data": {
      "image/png": "[encoded data removed]",
      "text/plain": [
       "<Figure size 1152x576 with 1 Axes>"
      ]
     },
     "metadata": {
      "needs_background": "light"
     },
     "output_type": "display_data"
    }
   ],
   "source": [
    "draw_image(y_pred[0][0].permute(2,0,1).cpu().detach().numpy()[1])"
   ]
  },
  {
   "cell_type": "code",
   "execution_count": null,
   "metadata": {},
   "outputs": [],
   "source": []
  },
  {
   "cell_type": "code",
   "execution_count": null,
   "metadata": {},
   "outputs": [],
   "source": []
  }
 ],
 "metadata": {
  "environment": {
   "name": "pytorch-gpu.1-4.m50",
   "type": "gcloud",
   "uri": "gcr.io/deeplearning-platform-release/pytorch-gpu.1-4:m50"
  },
  "kernelspec": {
   "display_name": "Python 3",
   "language": "python",
   "name": "python3"
  },
  "language_info": {
   "codemirror_mode": {
    "name": "ipython",
    "version": 3
   },
   "file_extension": ".py",
   "mimetype": "text/x-python",
   "name": "python",
   "nbconvert_exporter": "python",
   "pygments_lexer": "ipython3",
   "version": "3.7.6"
  }
 },
 "nbformat": 4,
 "nbformat_minor": 4
}
