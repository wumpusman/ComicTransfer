{
 "cells": [
  {
   "cell_type": "code",
   "execution_count": 8,
   "metadata": {},
   "outputs": [],
   "source": [
    "import xml.etree.ElementTree as et \n",
    "import os\n",
    "import pandas as pd"
   ]
  },
  {
   "cell_type": "code",
   "execution_count": 2,
   "metadata": {},
   "outputs": [],
   "source": [
    "file_name=\"AisazuNihaIrarenai\""
   ]
  },
  {
   "cell_type": "code",
   "execution_count": 3,
   "metadata": {},
   "outputs": [],
   "source": [
    "annotation_path:str=\"/home/data/Manga109s/annotations/\" #AisazuNihaIrarenai\" #.xml"
   ]
  },
  {
   "cell_type": "code",
   "execution_count": 4,
   "metadata": {},
   "outputs": [],
   "source": [
    "#image_folder=os.path.join(annotation_path,file_name+\"/\")\n",
    "xml_path=os.path.join(annotation_path,\"{}.xml\".format(file_name))"
   ]
  },
  {
   "cell_type": "code",
   "execution_count": 5,
   "metadata": {},
   "outputs": [],
   "source": [
    "xtree = et.parse(xml_path)\n",
    "xroot = xtree.getroot()"
   ]
  },
  {
   "cell_type": "code",
   "execution_count": 33,
   "metadata": {},
   "outputs": [],
   "source": [
    "def format_bounding_data(xml_path:str):\n",
    "    xtree = et.parse(xml_path)\n",
    "    xroot = xtree.getroot()\n",
    "    all_manga=pd.DataFrame()\n",
    "    for tee in xroot[1]:\n",
    "\n",
    "        all_lines=[]\n",
    "        all_attr=[]\n",
    "        for rank in tee.iter('text'):\n",
    "\n",
    "            all_lines.append(rank.attrib)\n",
    "            all_attr.append(tee.attrib)\n",
    "        results=pd.DataFrame(all_lines)\n",
    "        results=results.join(pd.DataFrame(all_attr))\n",
    "        results[\"manga\"]=file_name\n",
    "        all_manga=all_manga.append(results)\n",
    "    all_manga[\"xmin\"]=pd.to_numeric(all_manga.\n",
    "                                    xmin)\n",
    "    all_manga[\"ymin\"]=pd.to_numeric(all_manga.ymin)\n",
    "    all_manga[\"ymax\"]=pd.to_numeric(all_manga.ymax)\n",
    "    all_manga[\"xmax\"]=pd.to_numeric(all_manga.xmax)\n",
    "    all_manga[\"index\"]=pd.to_numeric(all_manga[\"index\"])\n",
    "    return all_manga.rename(columns={\"width\":\"page_width\",\"height\":\"page_height\",\"index\":\"page_num\",})\n",
    "    \n",
    "    \n",
    "    "
   ]
  },
  {
   "cell_type": "code",
   "execution_count": 37,
   "metadata": {},
   "outputs": [],
   "source": [
    "results=format_bounding_data(xml_path)\n",
    "results[\"width\"]=results[\"xmax\"]-results[\"xmin\"]\n",
    "results[\"height\"]=results[\"ymax\"]-results[\"ymin\"]\n",
    "results[\"path\"]=\"/home/data/Manga109s/images/AisazuNihaIrarenai/\""
   ]
  },
  {
   "cell_type": "markdown",
   "metadata": {},
   "source": [
    "**Create train loader for loading into fast rcnn **"
   ]
  },
  {
   "cell_type": "code",
   "execution_count": 36,
   "metadata": {},
   "outputs": [],
   "source": [
    "from torch.utils.data import Dataset, DataLoader"
   ]
  },
  {
   "cell_type": "code",
   "execution_count": null,
   "metadata": {},
   "outputs": [],
   "source": []
  },
  {
   "cell_type": "code",
   "execution_count": 49,
   "metadata": {},
   "outputs": [],
   "source": [
    "class MangaDataset(Dataset):\n",
    "    \n",
    "    def __init__(self,dataframe):\n",
    "        \n",
    "        super().__init__()\n",
    "        \n",
    "        self.df=dataframe\n",
    "        self._length=len(dataframe[\"page_num\"].unique())\n",
    "        self._min_page=dataframe[\"page_num\"].min()\n",
    "    def __len__():\n",
    "        return self._length\n",
    "    \n",
    "    \n",
    "    def __getitem__(self,index:int):\n",
    "        relevant_lines=self.df[df.page_num==(index+self._min_page)]\n",
    "        \n",
    "       \n",
    "        \n",
    "        \n",
    "        "
   ]
  },
  {
   "cell_type": "code",
   "execution_count": 47,
   "metadata": {},
   "outputs": [
    {
     "data": {
      "text/plain": [
       "int"
      ]
     },
     "execution_count": 47,
     "metadata": {},
     "output_type": "execute_result"
    }
   ],
   "source": [
    "type(results[\"page_num\"].min())"
   ]
  },
  {
   "cell_type": "code",
   "execution_count": 96,
   "metadata": {},
   "outputs": [],
   "source": [
    "#from matplotlib.pyplot import imshow\n",
    "#%matplotlib inline\n",
    "#import cv2"
   ]
  },
  {
   "cell_type": "code",
   "execution_count": 103,
   "metadata": {},
   "outputs": [],
   "source": [
    "#image=cv2.imread(\"/home/data/Manga109s/images/AisazuNihaIrarenai/002.jpg\", cv2.IMREAD_COLOR)"
   ]
  },
  {
   "cell_type": "code",
   "execution_count": 41,
   "metadata": {},
   "outputs": [
    {
     "data": {
      "text/plain": [
       "481"
      ]
     },
     "execution_count": 41,
     "metadata": {},
     "output_type": "execute_result"
    }
   ],
   "source": [
    "results[\"width\"]=results[\"xmax\"]-results[\"xmin\"]\n",
    "results[\"height\"]=results[\"ymax\"]-"
   ]
  },
  {
   "cell_type": "code",
   "execution_count": 44,
   "metadata": {},
   "outputs": [
    {
     "name": "stdout",
     "output_type": "stream",
     "text": [
      "CPU times: user 0 ns, sys: 0 ns, total: 0 ns\n",
      "Wall time: 494 µs\n"
     ]
    },
    {
     "data": {
      "text/plain": [
       "manga                                       AisazuNihaIrarenai\n",
       "id                                                    00000983\n",
       "xmin                                                       384\n",
       "ymin                                                        62\n",
       "xmax                                                       446\n",
       "ymax                                                       172\n",
       "page_num                                                     2\n",
       "page_width                                                1654\n",
       "page_height                                               1170\n",
       "width                                                       62\n",
       "height                                                     110\n",
       "path           /home/data/Manga109s/images/AisazuNihaIrarenai/\n",
       "Name: 1, dtype: object"
      ]
     },
     "execution_count": 44,
     "metadata": {},
     "output_type": "execute_result"
    }
   ],
   "source": [
    "%%time\n",
    "results.iloc[1]"
   ]
  },
  {
   "cell_type": "code",
   "execution_count": 45,
   "metadata": {},
   "outputs": [
    {
     "data": {
      "text/html": [
       "<div>\n",
       "<style scoped>\n",
       "    .dataframe tbody tr th:only-of-type {\n",
       "        vertical-align: middle;\n",
       "    }\n",
       "\n",
       "    .dataframe tbody tr th {\n",
       "        vertical-align: top;\n",
       "    }\n",
       "\n",
       "    .dataframe thead th {\n",
       "        text-align: right;\n",
       "    }\n",
       "</style>\n",
       "<table border=\"1\" class=\"dataframe\">\n",
       "  <thead>\n",
       "    <tr style=\"text-align: right;\">\n",
       "      <th></th>\n",
       "      <th>manga</th>\n",
       "      <th>id</th>\n",
       "      <th>xmin</th>\n",
       "      <th>ymin</th>\n",
       "      <th>xmax</th>\n",
       "      <th>ymax</th>\n",
       "      <th>page_num</th>\n",
       "      <th>page_width</th>\n",
       "      <th>page_height</th>\n",
       "      <th>width</th>\n",
       "      <th>height</th>\n",
       "      <th>path</th>\n",
       "    </tr>\n",
       "  </thead>\n",
       "  <tbody>\n",
       "    <tr>\n",
       "      <th>0</th>\n",
       "      <td>AisazuNihaIrarenai</td>\n",
       "      <td>0000097d</td>\n",
       "      <td>664</td>\n",
       "      <td>458</td>\n",
       "      <td>722</td>\n",
       "      <td>676</td>\n",
       "      <td>2</td>\n",
       "      <td>1654</td>\n",
       "      <td>1170</td>\n",
       "      <td>58</td>\n",
       "      <td>218</td>\n",
       "      <td>/home/data/Manga109s/images/AisazuNihaIrarenai/</td>\n",
       "    </tr>\n",
       "    <tr>\n",
       "      <th>1</th>\n",
       "      <td>AisazuNihaIrarenai</td>\n",
       "      <td>00000983</td>\n",
       "      <td>384</td>\n",
       "      <td>62</td>\n",
       "      <td>446</td>\n",
       "      <td>172</td>\n",
       "      <td>2</td>\n",
       "      <td>1654</td>\n",
       "      <td>1170</td>\n",
       "      <td>62</td>\n",
       "      <td>110</td>\n",
       "      <td>/home/data/Manga109s/images/AisazuNihaIrarenai/</td>\n",
       "    </tr>\n",
       "    <tr>\n",
       "      <th>2</th>\n",
       "      <td>AisazuNihaIrarenai</td>\n",
       "      <td>00000988</td>\n",
       "      <td>1488</td>\n",
       "      <td>104</td>\n",
       "      <td>1554</td>\n",
       "      <td>206</td>\n",
       "      <td>2</td>\n",
       "      <td>1654</td>\n",
       "      <td>1170</td>\n",
       "      <td>66</td>\n",
       "      <td>102</td>\n",
       "      <td>/home/data/Manga109s/images/AisazuNihaIrarenai/</td>\n",
       "    </tr>\n",
       "    <tr>\n",
       "      <th>3</th>\n",
       "      <td>AisazuNihaIrarenai</td>\n",
       "      <td>00000989</td>\n",
       "      <td>1144</td>\n",
       "      <td>561</td>\n",
       "      <td>1263</td>\n",
       "      <td>677</td>\n",
       "      <td>2</td>\n",
       "      <td>1654</td>\n",
       "      <td>1170</td>\n",
       "      <td>119</td>\n",
       "      <td>116</td>\n",
       "      <td>/home/data/Manga109s/images/AisazuNihaIrarenai/</td>\n",
       "    </tr>\n",
       "    <tr>\n",
       "      <th>4</th>\n",
       "      <td>AisazuNihaIrarenai</td>\n",
       "      <td>0000098a</td>\n",
       "      <td>1222</td>\n",
       "      <td>871</td>\n",
       "      <td>1260</td>\n",
       "      <td>947</td>\n",
       "      <td>2</td>\n",
       "      <td>1654</td>\n",
       "      <td>1170</td>\n",
       "      <td>38</td>\n",
       "      <td>76</td>\n",
       "      <td>/home/data/Manga109s/images/AisazuNihaIrarenai/</td>\n",
       "    </tr>\n",
       "    <tr>\n",
       "      <th>...</th>\n",
       "      <td>...</td>\n",
       "      <td>...</td>\n",
       "      <td>...</td>\n",
       "      <td>...</td>\n",
       "      <td>...</td>\n",
       "      <td>...</td>\n",
       "      <td>...</td>\n",
       "      <td>...</td>\n",
       "      <td>...</td>\n",
       "      <td>...</td>\n",
       "      <td>...</td>\n",
       "      <td>...</td>\n",
       "    </tr>\n",
       "    <tr>\n",
       "      <th>12</th>\n",
       "      <td>AisazuNihaIrarenai</td>\n",
       "      <td>00001d2e</td>\n",
       "      <td>1443</td>\n",
       "      <td>416</td>\n",
       "      <td>1533</td>\n",
       "      <td>498</td>\n",
       "      <td>92</td>\n",
       "      <td>1654</td>\n",
       "      <td>1170</td>\n",
       "      <td>90</td>\n",
       "      <td>82</td>\n",
       "      <td>/home/data/Manga109s/images/AisazuNihaIrarenai/</td>\n",
       "    </tr>\n",
       "    <tr>\n",
       "      <th>13</th>\n",
       "      <td>AisazuNihaIrarenai</td>\n",
       "      <td>00001d35</td>\n",
       "      <td>1283</td>\n",
       "      <td>389</td>\n",
       "      <td>1392</td>\n",
       "      <td>508</td>\n",
       "      <td>92</td>\n",
       "      <td>1654</td>\n",
       "      <td>1170</td>\n",
       "      <td>109</td>\n",
       "      <td>119</td>\n",
       "      <td>/home/data/Manga109s/images/AisazuNihaIrarenai/</td>\n",
       "    </tr>\n",
       "    <tr>\n",
       "      <th>14</th>\n",
       "      <td>AisazuNihaIrarenai</td>\n",
       "      <td>00001d37</td>\n",
       "      <td>1068</td>\n",
       "      <td>506</td>\n",
       "      <td>1126</td>\n",
       "      <td>618</td>\n",
       "      <td>92</td>\n",
       "      <td>1654</td>\n",
       "      <td>1170</td>\n",
       "      <td>58</td>\n",
       "      <td>112</td>\n",
       "      <td>/home/data/Manga109s/images/AisazuNihaIrarenai/</td>\n",
       "    </tr>\n",
       "    <tr>\n",
       "      <th>15</th>\n",
       "      <td>AisazuNihaIrarenai</td>\n",
       "      <td>00001d38</td>\n",
       "      <td>663</td>\n",
       "      <td>529</td>\n",
       "      <td>734</td>\n",
       "      <td>641</td>\n",
       "      <td>92</td>\n",
       "      <td>1654</td>\n",
       "      <td>1170</td>\n",
       "      <td>71</td>\n",
       "      <td>112</td>\n",
       "      <td>/home/data/Manga109s/images/AisazuNihaIrarenai/</td>\n",
       "    </tr>\n",
       "    <tr>\n",
       "      <th>16</th>\n",
       "      <td>AisazuNihaIrarenai</td>\n",
       "      <td>00001d40</td>\n",
       "      <td>89</td>\n",
       "      <td>272</td>\n",
       "      <td>209</td>\n",
       "      <td>383</td>\n",
       "      <td>92</td>\n",
       "      <td>1654</td>\n",
       "      <td>1170</td>\n",
       "      <td>120</td>\n",
       "      <td>111</td>\n",
       "      <td>/home/data/Manga109s/images/AisazuNihaIrarenai/</td>\n",
       "    </tr>\n",
       "  </tbody>\n",
       "</table>\n",
       "<p>1474 rows × 12 columns</p>\n",
       "</div>"
      ],
      "text/plain": [
       "                 manga        id  xmin  ymin  xmax  ymax  page_num page_width  \\\n",
       "0   AisazuNihaIrarenai  0000097d   664   458   722   676         2       1654   \n",
       "1   AisazuNihaIrarenai  00000983   384    62   446   172         2       1654   \n",
       "2   AisazuNihaIrarenai  00000988  1488   104  1554   206         2       1654   \n",
       "3   AisazuNihaIrarenai  00000989  1144   561  1263   677         2       1654   \n",
       "4   AisazuNihaIrarenai  0000098a  1222   871  1260   947         2       1654   \n",
       "..                 ...       ...   ...   ...   ...   ...       ...        ...   \n",
       "12  AisazuNihaIrarenai  00001d2e  1443   416  1533   498        92       1654   \n",
       "13  AisazuNihaIrarenai  00001d35  1283   389  1392   508        92       1654   \n",
       "14  AisazuNihaIrarenai  00001d37  1068   506  1126   618        92       1654   \n",
       "15  AisazuNihaIrarenai  00001d38   663   529   734   641        92       1654   \n",
       "16  AisazuNihaIrarenai  00001d40    89   272   209   383        92       1654   \n",
       "\n",
       "   page_height  width  height                                             path  \n",
       "0         1170     58     218  /home/data/Manga109s/images/AisazuNihaIrarenai/  \n",
       "1         1170     62     110  /home/data/Manga109s/images/AisazuNihaIrarenai/  \n",
       "2         1170     66     102  /home/data/Manga109s/images/AisazuNihaIrarenai/  \n",
       "3         1170    119     116  /home/data/Manga109s/images/AisazuNihaIrarenai/  \n",
       "4         1170     38      76  /home/data/Manga109s/images/AisazuNihaIrarenai/  \n",
       "..         ...    ...     ...                                              ...  \n",
       "12        1170     90      82  /home/data/Manga109s/images/AisazuNihaIrarenai/  \n",
       "13        1170    109     119  /home/data/Manga109s/images/AisazuNihaIrarenai/  \n",
       "14        1170     58     112  /home/data/Manga109s/images/AisazuNihaIrarenai/  \n",
       "15        1170     71     112  /home/data/Manga109s/images/AisazuNihaIrarenai/  \n",
       "16        1170    120     111  /home/data/Manga109s/images/AisazuNihaIrarenai/  \n",
       "\n",
       "[1474 rows x 12 columns]"
      ]
     },
     "execution_count": 45,
     "metadata": {},
     "output_type": "execute_result"
    }
   ],
   "source": [
    "results"
   ]
  },
  {
   "cell_type": "code",
   "execution_count": null,
   "metadata": {},
   "outputs": [],
   "source": []
  }
 ],
 "metadata": {
  "environment": {
   "name": "pytorch-gpu.1-4.m50",
   "type": "gcloud",
   "uri": "gcr.io/deeplearning-platform-release/pytorch-gpu.1-4:m50"
  },
  "kernelspec": {
   "display_name": "Python 3",
   "language": "python",
   "name": "python3"
  },
  "language_info": {
   "codemirror_mode": {
    "name": "ipython",
    "version": 3
   },
   "file_extension": ".py",
   "mimetype": "text/x-python",
   "name": "python",
   "nbconvert_exporter": "python",
   "pygments_lexer": "ipython3",
   "version": "3.7.6"
  }
 },
 "nbformat": 4,
 "nbformat_minor": 4
}
