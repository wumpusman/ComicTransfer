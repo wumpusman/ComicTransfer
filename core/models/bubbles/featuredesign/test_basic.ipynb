{
 "cells": [
  {
   "cell_type": "code",
   "execution_count": 3,
   "metadata": {},
   "outputs": [],
   "source": [
    "import pandas as pd"
   ]
  },
  {
   "cell_type": "code",
   "execution_count": 42,
   "metadata": {},
   "outputs": [],
   "source": [
    "comic_list=pd.read_csv(\"Yotsubato!.tsv\",sep=\"\\t\")"
   ]
  },
  {
   "cell_type": "code",
   "execution_count": null,
   "metadata": {},
   "outputs": [],
   "source": []
  },
  {
   "cell_type": "code",
   "execution_count": 10,
   "metadata": {},
   "outputs": [
    {
     "data": {
      "text/plain": [
       "'https://bilingualmanga.com//manga/nichijou/chapter-1/1-5'"
      ]
     },
     "execution_count": 10,
     "metadata": {},
     "output_type": "execute_result"
    }
   ],
   "source": []
  },
  {
   "cell_type": "code",
   "execution_count": 47,
   "metadata": {},
   "outputs": [],
   "source": [
    "#a1=comic_list.manga==\"Nichijou\" #a particular chapter\n",
    "a2=comic_list.link==comic_list.link.unique()[2] #a particular page\n",
    "a3=comic_list[\"box_id\"]==0\n",
    "subset=comic_list[a2&a3]"
   ]
  },
  {
   "cell_type": "code",
   "execution_count": 48,
   "metadata": {},
   "outputs": [
    {
     "data": {
      "text/plain": [
       "array(['maru-gothic', 'anime-ace', 'telephone', 'maru-gothic, sans-serif',\n",
       "       'anime-ace, sans-serif', nan, 'telephone, sans-serif',\n",
       "       'felt-regular, sans-serif', 'yasashisa-antique, sans-serif',\n",
       "       'dom, sans-serif', 'augie, sans-serif', 'hl-comic2, sans-serif',\n",
       "       'hl-comic-boom, sans-serif', 'hl-comic1, sans-serif'], dtype=object)"
      ]
     },
     "execution_count": 48,
     "metadata": {},
     "output_type": "execute_result"
    }
   ],
   "source": [
    "comic_list[\"font-family\"].unique()"
   ]
  },
  {
   "cell_type": "code",
   "execution_count": 51,
   "metadata": {},
   "outputs": [
    {
     "data": {
      "text/plain": [
       "array([['https://bilingualmanga.com//manga/yotsubato/chapter-1/1-7', nan,\n",
       "        490.0, 295.672, 19.0, 'あんまり\\r\\nのり出だすと\\r\\n危あぶないぞー'],\n",
       "       ['https://bilingualmanga.com//manga/yotsubato/chapter-1/1-7',\n",
       "        101.0, 484.0, 282.344, 13.0,\n",
       "        \"don't lean out the window so much it's danger-ous\"]],\n",
       "      dtype=object)"
      ]
     },
     "execution_count": 51,
     "metadata": {},
     "output_type": "execute_result"
    }
   ],
   "source": [
    "subset[[\"link\",\"width\",\"left\",\"top\",\"font-size\",\"text\"]].values\n",
    "#text len\n",
    "#"
   ]
  },
  {
   "cell_type": "code",
   "execution_count": 55,
   "metadata": {},
   "outputs": [
    {
     "data": {
      "text/plain": [
       "574.0"
      ]
     },
     "execution_count": 55,
     "metadata": {},
     "output_type": "execute_result"
    }
   ],
   "source": [
    "comic_list[\"top\"].max()"
   ]
  },
  {
   "cell_type": "code",
   "execution_count": null,
   "metadata": {},
   "outputs": [],
   "source": [
    "#amount of text, font-size, relative position\n",
    "#font-size "
   ]
  }
 ],
 "metadata": {
  "environment": {
   "name": "pytorch-gpu.1-4.m50",
   "type": "gcloud",
   "uri": "gcr.io/deeplearning-platform-release/pytorch-gpu.1-4:m50"
  },
  "kernelspec": {
   "display_name": "Python 3",
   "language": "python",
   "name": "python3"
  },
  "language_info": {
   "codemirror_mode": {
    "name": "ipython",
    "version": 3
   },
   "file_extension": ".py",
   "mimetype": "text/x-python",
   "name": "python",
   "nbconvert_exporter": "python",
   "pygments_lexer": "ipython3",
   "version": "3.7.6"
  }
 },
 "nbformat": 4,
 "nbformat_minor": 4
}
