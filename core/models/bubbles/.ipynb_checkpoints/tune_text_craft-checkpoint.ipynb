{
 "cells": [],
 "metadata": {
  "environment": {
   "name": "pytorch-gpu.1-4.m50",
   "type": "gcloud",
   "uri": "gcr.io/deeplearning-platform-release/pytorch-gpu.1-4:m50"
  }
 },
 "nbformat": 4,
 "nbformat_minor": 4
}
