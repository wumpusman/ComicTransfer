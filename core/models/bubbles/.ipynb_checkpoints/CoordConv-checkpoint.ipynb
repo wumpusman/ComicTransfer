{
 "cells": [
  {
   "cell_type": "code",
   "execution_count": 1,
   "metadata": {},
   "outputs": [],
   "source": [
    "import os\n",
    "import numpy as np\n",
    "import matplotlib.pyplot as plt\n",
    "import torch\n",
    "import torch.nn as nn\n",
    "import torch.nn.modules.conv as conv\n",
    "import torch.utils.data as utils\n",
    "import torch.nn.functional as F\n",
    "\n",
    "from torch.autograd import Variable\n",
    "from sklearn.model_selection import train_test_split\n",
    "from torchsummary import summary"
   ]
  },
  {
   "cell_type": "code",
   "execution_count": null,
   "metadata": {},
   "outputs": [],
   "source": [
    "from coordconv import *"
   ]
  },
  {
   "cell_type": "markdown",
   "metadata": {},
   "source": [
    "## Generate Data"
   ]
  },
  {
   "cell_type": "code",
   "execution_count": 3,
   "metadata": {},
   "outputs": [
    {
     "data": {
      "text/plain": [
       "<torch._C.Generator at 0x7f3a8a9c39b0>"
      ]
     },
     "execution_count": 3,
     "metadata": {},
     "output_type": "execute_result"
    }
   ],
   "source": [
    "datatype = 'uniform'\n",
    "assert datatype in ['uniform', 'quadrant']\n",
    "\n",
    "if not os.path.exists('data-uniform/'):\n",
    "    os.makedirs('data-uniform/')\n",
    "\n",
    "if not os.path.exists('data-quadrant/'):\n",
    "    os.makedirs('data-quadrant/')\n",
    "\n",
    "np.random.seed(0)\n",
    "torch.manual_seed(0)"
   ]
  },
  {
   "cell_type": "code",
   "execution_count": 4,
   "metadata": {},
   "outputs": [],
   "source": [
    "onehots = np.pad(np.eye(3136, dtype='float32').reshape((3136, 56, 56, 1)),\n",
    "                     ((0, 0), (4, 4), (4, 4), (0, 0)), mode=\"constant\")\n",
    "onehots = onehots.transpose(0, 3, 1, 2)\n",
    "\n",
    "onehots_tensor = torch.from_numpy(onehots)\n",
    "\n",
    "conv_layer = nn.Conv2d(in_channels=1, out_channels=1, kernel_size=(9,9), padding=4, stride=1)\n",
    "w = torch.ones(1, 1, 9, 9)\n",
    "conv_layer.weight.data = w\n",
    "\n",
    "images_tensor = conv_layer(onehots_tensor)\n",
    "images = images_tensor.detach().numpy()\n",
    "\n",
    "if datatype == 'uniform':\n",
    "    # Create the uniform datasets\n",
    "    indices = np.arange(0, len(onehots), dtype='int32')\n",
    "    train, test = train_test_split(indices, test_size=0.2, random_state=0)\n",
    "\n",
    "    train_onehot = onehots[train]\n",
    "    train_images = images[train]\n",
    "\n",
    "    test_onehot = onehots[test]\n",
    "    test_images = images[test]\n",
    "\n",
    "    np.save('data-uniform/train_onehot.npy', train_onehot)\n",
    "    np.save('data-uniform/train_images.npy', train_images)\n",
    "    np.save('data-uniform/test_onehot.npy', test_onehot)\n",
    "    np.save('data-uniform/test_images.npy', test_images)\n",
    "else:\n",
    "    pos_quadrant = np.where(onehots == 1.0)\n",
    "#     print(onehots.shape)\n",
    "    X = pos_quadrant[2]\n",
    "    Y = pos_quadrant[3]\n",
    "    \n",
    "    train_set = []\n",
    "    test_set = []\n",
    "\n",
    "    train_ids = []\n",
    "    test_ids = []\n",
    "\n",
    "    for i, (x, y) in enumerate(zip(X, Y)):\n",
    "        if x > 32 and y > 32:  # 4th quadrant\n",
    "            test_ids.append(i)\n",
    "            test_set.append([x, y])\n",
    "        else:\n",
    "            train_ids.append(i)\n",
    "            train_set.append([x, y])\n",
    "\n",
    "    train_set = np.array(train_set)\n",
    "    test_set = np.array(test_set)\n",
    "    \n",
    "    train_set = train_set[:, :, None, None]\n",
    "    test_set = test_set[:, :, None, None]\n",
    "\n",
    "    print(train_set.shape)\n",
    "    print(test_set.shape)\n",
    "\n",
    "    train_onehot = onehots[train_ids]\n",
    "    test_onehot = onehots[test_ids]\n",
    "\n",
    "    train_images = images[train_ids]\n",
    "    test_images = images[test_ids]\n",
    "\n",
    "    print(train_onehot.shape, test_onehot.shape)\n",
    "    print(train_images.shape, test_images.shape)\n",
    "\n",
    "    np.save('data-quadrant/train_set.npy', train_set)\n",
    "    np.save('data-quadrant/test_set.npy', test_set)\n",
    "    np.save('data-quadrant/train_onehot.npy', train_onehot)\n",
    "    np.save('data-quadrant/train_images.npy', train_images)\n",
    "    np.save('data-quadrant/test_onehot.npy', test_onehot)\n",
    "    np.save('data-quadrant/test_images.npy', test_images)"
   ]
  },
  {
   "cell_type": "markdown",
   "metadata": {},
   "source": [
    "## Load data numpy"
   ]
  },
  {
   "cell_type": "code",
   "execution_count": 5,
   "metadata": {},
   "outputs": [
    {
     "name": "stdout",
     "output_type": "stream",
     "text": [
      "Train set :  (2508, 2, 64, 64) 0.93650794 0.06349207\n",
      "Test set :  (628, 2, 64, 64) 0.93650794 0.06349207\n"
     ]
    },
    {
     "data": {
      "image/png": "[encoded data removed]",
      "text/plain": [
       "<Figure size 432x288 with 1 Axes>"
      ]
     },
     "metadata": {
      "needs_background": "light"
     },
     "output_type": "display_data"
    },
    {
     "data": {
      "image/png": "[encoded data removed]",
      "text/plain": [
       "<Figure size 432x288 with 1 Axes>"
      ]
     },
     "metadata": {
      "needs_background": "light"
     },
     "output_type": "display_data"
    }
   ],
   "source": [
    "if datatype == 'uniform':\n",
    "    # Load the one hot datasets\n",
    "    train_onehot = np.load('data-uniform/train_onehot.npy').astype('float32')\n",
    "    test_onehot = np.load('data-uniform/test_onehot.npy').astype('float32')\n",
    "\n",
    "    # (N, C, H, W) <=== 数据格式\n",
    "    # make the train and test datasets\n",
    "    # train\n",
    "    pos_train = np.where(train_onehot == 1.0)\n",
    "    X_train = pos_train[2]\n",
    "    Y_train = pos_train[3]\n",
    "    train_set = np.zeros((len(X_train), 2, 1, 1), dtype='float32')\n",
    "    for i, (x, y) in enumerate(zip(X_train, Y_train)):\n",
    "        train_set[i, 0, 0, 0] = x\n",
    "        train_set[i, 1, 0, 0] = y\n",
    "\n",
    "    # test\n",
    "    pos_test = np.where(test_onehot == 1.0)\n",
    "    X_test = pos_test[2]\n",
    "    Y_test = pos_test[3]\n",
    "    test_set = np.zeros((len(X_test), 2, 1, 1), dtype='float32')\n",
    "    for i, (x, y) in enumerate(zip(X_test, Y_test)):\n",
    "        test_set[i, 0, 0, 0] = x\n",
    "        test_set[i, 1, 0, 0] = y\n",
    "\n",
    "    train_set = np.tile(train_set, [1, 1, 64, 64])\n",
    "    test_set = np.tile(test_set, [1, 1, 64, 64])\n",
    "\n",
    "    # Normalize the datasets\n",
    "    train_set /= (64. - 1.)  # 64x64 grid, 0-based index\n",
    "    test_set /= (64. - 1.)  # 64x64 grid, 0-based index\n",
    "\n",
    "    print('Train set : ', train_set.shape, train_set.max(), train_set.min())\n",
    "    print('Test set : ', test_set.shape, test_set.max(), test_set.min())\n",
    "\n",
    "    # Visualize the datasets\n",
    "\n",
    "    plt.imshow(np.sum(train_onehot, axis=0)[0, :, :], cmap='gray')\n",
    "    plt.title('Train One-hot dataset')\n",
    "    plt.show()\n",
    "    plt.imshow(np.sum(test_onehot, axis=0)[0, :, :], cmap='gray')\n",
    "    plt.title('Test One-hot dataset')\n",
    "    plt.show()\n",
    "\n",
    "else:\n",
    "    # Load the one hot datasets and the train / test set\n",
    "    train_set = np.load('data-quadrant/train_set.npy').astype('float32')\n",
    "    test_set = np.load('data-quadrant/test_set.npy').astype('float32')\n",
    "\n",
    "    train_onehot = np.load('data-quadrant/train_onehot.npy').astype('float32')\n",
    "    test_onehot = np.load('data-quadrant/test_onehot.npy').astype('float32')\n",
    "\n",
    "    train_set = np.tile(train_set, [1, 1, 64, 64])\n",
    "    test_set = np.tile(test_set, [1, 1, 64, 64])\n",
    "\n",
    "    # Normalize datasets\n",
    "    train_set /= train_set.max()\n",
    "    test_set /= test_set.max()\n",
    "\n",
    "    print('Train set : ', train_set.shape, train_set.max(), train_set.min())\n",
    "    print('Test set : ', test_set.shape, test_set.max(), test_set.min())\n",
    "\n",
    "    # Visualize the datasets\n",
    "\n",
    "    plt.imshow(np.sum(train_onehot, axis=0)[0, :, :], cmap='gray')\n",
    "    plt.title('Train One-hot dataset')\n",
    "    plt.show()\n",
    "    plt.imshow(np.sum(test_onehot, axis=0)[0, :, :], cmap='gray')\n",
    "    plt.title('Test One-hot dataset')\n",
    "    plt.show()"
   ]
  },
  {
   "cell_type": "code",
   "execution_count": 6,
   "metadata": {},
   "outputs": [],
   "source": [
    "# flatten the datasets\n",
    "train_onehot = train_onehot.reshape((-1, 64 * 64)).astype('int64')\n",
    "test_onehot = test_onehot.reshape((-1, 64 * 64)).astype('int64')"
   ]
  },
  {
   "cell_type": "code",
   "execution_count": 7,
   "metadata": {},
   "outputs": [],
   "source": [
    "# model definition\n",
    "\n",
    "class Net(nn.Module):\n",
    "    def __init__(self):\n",
    "        super(Net, self).__init__()\n",
    "        self.coordconv = CoordConv2d(2, 32, 1, with_r=True, use_cuda=False)\n",
    "        self.conv1 = nn.Conv2d(32, 64, 1)\n",
    "        self.conv2 = nn.Conv2d(64, 64, 1)\n",
    "        self.conv3 = nn.Conv2d(64,  1, 1)\n",
    "        self.conv4 = nn.Conv2d( 1,  1, 1)\n",
    "\n",
    "    def forward(self, x):\n",
    "        x = self.coordconv(x)\n",
    "        x = F.relu(self.conv1(x))\n",
    "        x = F.relu(self.conv2(x))\n",
    "        x = F.relu(self.conv3(x))\n",
    "        x = self.conv4(x)\n",
    "        x = x.view(-1, 64*64)\n",
    "        return x\n",
    "\n",
    "device = torch.device(\"cpu\")\n",
    "net = Net().to(device)\n",
    "\n",
    "#summary(net, input_size=(2, 64, 64))"
   ]
  },
  {
   "cell_type": "markdown",
   "metadata": {},
   "source": [
    "## Make Datasets"
   ]
  },
  {
   "cell_type": "code",
   "execution_count": 8,
   "metadata": {},
   "outputs": [],
   "source": [
    "train_tensor_x = torch.stack([torch.Tensor(i) for i in train_set])\n",
    "train_tensor_y = torch.stack([torch.LongTensor(i) for i in train_onehot])\n",
    "\n",
    "train_dataset = utils.TensorDataset(train_tensor_x,train_tensor_y)\n",
    "train_dataloader = utils.DataLoader(train_dataset, batch_size=32, shuffle=False)\n",
    "\n",
    "test_tensor_x = torch.stack([torch.Tensor(i) for i in test_set])\n",
    "test_tensor_y = torch.stack([torch.LongTensor(i) for i in test_onehot])\n",
    "\n",
    "test_dataset = utils.TensorDataset(test_tensor_x,test_tensor_y)\n",
    "test_dataloader = utils.DataLoader(test_dataset, batch_size=32, shuffle=False)"
   ]
  },
  {
   "cell_type": "code",
   "execution_count": 9,
   "metadata": {},
   "outputs": [],
   "source": [
    "optimizer = torch.optim.Adam(net.parameters(), lr=1e-3)\n",
    "def cross_entropy_one_hot(input, target):\n",
    "    _, labels = target.max(dim=1)\n",
    "    return nn.CrossEntropyLoss()(input, labels)\n",
    "criterion = cross_entropy_one_hot\n",
    "epochs = 10"
   ]
  },
  {
   "cell_type": "code",
   "execution_count": 10,
   "metadata": {},
   "outputs": [],
   "source": [
    "def train(epoch, net, train_dataloader, optimizer, criterion, device):\n",
    "    net.train()\n",
    "    iters = 0\n",
    "    for batch_idx, (data, target) in enumerate(train_dataloader):\n",
    "        data, target = Variable(data), Variable(target)\n",
    "        data, target = data.to(device), target.to(device)\n",
    "        optimizer.zero_grad()\n",
    "        output = net(data)\n",
    "        loss = criterion(output, target)\n",
    "        loss.backward()\n",
    "        optimizer.step()\n",
    "        iters += len(data)\n",
    "        print('Train Epoch: {} [{}/{} ({:.0f}%)] Loss: {:.6f}'.format(\n",
    "                epoch, iters, len(train_dataloader.dataset),\n",
    "                100. * (batch_idx + 1) / len(train_dataloader), loss.data.item()), end='\\r', flush=True)\n",
    "    print(\"\")"
   ]
  },
  {
   "cell_type": "code",
   "execution_count": 11,
   "metadata": {},
   "outputs": [
    {
     "name": "stdout",
     "output_type": "stream",
     "text": [
      "Train Epoch: 1 [2508/2508 (100%)] Loss: 7.498067\n",
      "Train Epoch: 2 [2508/2508 (100%)] Loss: 3.979326\n",
      "Train Epoch: 3 [2508/2508 (100%)] Loss: 2.014220\n",
      "Train Epoch: 4 [2508/2508 (100%)] Loss: 0.979962\n",
      "Train Epoch: 5 [2508/2508 (100%)] Loss: 0.474519\n",
      "Train Epoch: 6 [2508/2508 (100%)] Loss: 0.241503\n",
      "Train Epoch: 7 [2508/2508 (100%)] Loss: 0.138851\n",
      "Train Epoch: 8 [2508/2508 (100%)] Loss: 0.089052\n",
      "Train Epoch: 9 [2508/2508 (100%)] Loss: 0.064587\n",
      "Train Epoch: 10 [2508/2508 (100%)] Loss: 0.047140\n"
     ]
    }
   ],
   "source": [
    "for epoch in range(1, epochs + 1):\n",
    "    train(epoch, net, train_dataloader, optimizer, criterion, device)"
   ]
  },
  {
   "cell_type": "code",
   "execution_count": 13,
   "metadata": {},
   "outputs": [],
   "source": [
    "def test(net, test_loader, optimizer, criterion, device):\n",
    "    net.eval()\n",
    "    test_loss = 0\n",
    "    correct = 0\n",
    "    pred_logits = torch.tensor([])\n",
    "    for data, target in test_loader:\n",
    "        with torch.no_grad():\n",
    "            data, target = data.to(device), target.to(device)\n",
    "        output = net(data)\n",
    "        logits = F.softmax(output, dim=1)\n",
    "        pred_logits = torch.cat((pred_logits, logits.cpu()), dim=0)\n",
    "        test_loss += criterion(output, target).item()\n",
    "        _, pred = output.max(1, keepdim=True)\n",
    "        _, label = target.max(dim=1)\n",
    "        correct += pred.eq(label.view_as(pred)).sum().item()\n",
    "\n",
    "    test_loss = test_loss\n",
    "    test_loss /= len(test_loader) # loss function already averages over batch size\n",
    "    print('\\nTest set: Average loss: {:.4f}, Accuracy: {}/{} ({:.0f}%)\\n'.format(\n",
    "        test_loss, correct, len(test_loader.dataset),\n",
    "        100. * correct / len(test_loader.dataset)))\n",
    "    pred_logits = torch.sum(pred_logits, dim=0)\n",
    "    plt.imshow(pred_logits.detach().numpy().reshape(-1,64), cmap='gray')\n",
    "    plt.title('Predictions One-hot dataset')"
   ]
  },
  {
   "cell_type": "code",
   "execution_count": 14,
   "metadata": {},
   "outputs": [
    {
     "name": "stdout",
     "output_type": "stream",
     "text": [
      "\n",
      "Test set: Average loss: 0.0487, Accuracy: 628/628 (100%)\n",
      "\n"
     ]
    },
    {
     "data": {
      "image/png": "[encoded data removed]",
      "text/plain": [
       "<Figure size 432x288 with 1 Axes>"
      ]
     },
     "metadata": {
      "needs_background": "light"
     },
     "output_type": "display_data"
    }
   ],
   "source": [
    "test(net, test_dataloader, optimizer, criterion, device)"
   ]
  },
  {
   "cell_type": "code",
   "execution_count": null,
   "metadata": {},
   "outputs": [],
   "source": []
  }
 ],
 "metadata": {
  "kernelspec": {
   "display_name": "Python 3",
   "language": "python",
   "name": "python3"
  },
  "language_info": {
   "codemirror_mode": {
    "name": "ipython",
    "version": 3
   },
   "file_extension": ".py",
   "mimetype": "text/x-python",
   "name": "python",
   "nbconvert_exporter": "python",
   "pygments_lexer": "ipython3",
   "version": "3.7.5"
  }
 },
 "nbformat": 4,
 "nbformat_minor": 2
}
