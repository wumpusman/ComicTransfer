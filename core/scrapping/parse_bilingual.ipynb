{
 "cells": [
  {
   "cell_type": "code",
   "execution_count": 6,
   "metadata": {},
   "outputs": [],
   "source": [
    "from bs4 import BeautifulSoup\n",
    "import requests as req\n",
    "import pandas as pd\n",
    "#resp = req.get('https://bilingualmanga.com/manga/yokohama-shopping-trip/chapter-4/1-8')\n",
    "import urllib\n",
    "#resp=req.get(\"https://bilingualmanga.com/manga/yokohama-shopping-trip/chapter-5/1-21\")\n",
    "#soup = BeautifulSoup(resp.text, 'lxml')\n",
    "import os"
   ]
  },
  {
   "cell_type": "code",
   "execution_count": null,
   "metadata": {},
   "outputs": [],
   "source": []
  },
  {
   "cell_type": "code",
   "execution_count": 36,
   "metadata": {},
   "outputs": [],
   "source": [
    "def parse_color(key, string):\n",
    "    assert key==\"color\"\n",
    "    string=string.replace(\"rgb(\",\"\").replace(\")\",\"\").split(\", \")\n",
    "    return string\n",
    "\n",
    "def parse_number(key,string):\n",
    "    size=string.split(\", \")[0].replace(\"px\",\"\")\n",
    "    return float(size)\n",
    "\n",
    "\n",
    "def parseKnown(key,val):\n",
    "    key_to_func={}\n",
    "    key_to_func[\"left\"]=parse_number\n",
    "    key_to_func[\"top\"]=parse_number\n",
    "    key_to_func[\"width\"]=parse_number\n",
    "    key_to_func[\"font-size\"]=parse_number\n",
    "    key_to_func[\"color\"]=parse_color\n",
    "\n",
    "    if key in key_to_func:\n",
    "        return key_to_func[key](key,val)\n",
    "    else:\n",
    "        return val\n",
    "\n",
    "\n",
    "def extract_dictionary(element,additional_dict_values:dict={}):\n",
    "    all_pairs=[]\n",
    "    index=0\n",
    "    for sub in element:\n",
    "        style=sub.get_attribute_list(\"style\")\n",
    "        dictionary={}\n",
    "        attribute_elements=style[0].split(\";\")\n",
    "        for element in attribute_elements:\n",
    "            pair= element.split(\":\")\n",
    "            key=pair[0]\n",
    "            val=pair[1]\n",
    "            val=parseKnown(key,val)\n",
    "            dictionary[key]=val\n",
    "        dictionary[\"text\"]=sub.getText().replace(\",\",\"\")\n",
    "        dictionary[\"box_id\"]=index\n",
    "        index+=1\n",
    "        dictionary.update(additional_dict_values)\n",
    "        all_pairs.append(dictionary)\n",
    "    \n",
    "    return all_pairs\n",
    "\n",
    "def parse_soup_page(soup,link=\"\"):\n",
    "    \n",
    "    link=\"\"\n",
    "    jp=soup.select(\"div.main.language\")[0]\n",
    "    eng=soup.select('div.language.sub')[0]\n",
    "    eng_text=eng.findAll(\"div\",\"div-text\")\n",
    "    jp_text=jp.findAll(\"div\",\"div-text\")\n",
    "    \n",
    "    \n",
    "    sub=soup.findAll(False,{'class':['image-container']})[0]\n",
    "    img_link=sub.find(\"img\")\n",
    "    jpg=img_link.attrs[\"src\"]\n",
    "    \n",
    "    manga=soup.findAll(False,{'id':[\"manga-name\"]})[0]\n",
    "    manga=manga.text.replace(\" \",\"_\")\n",
    "    print(manga)\n",
    "    \n",
    "    jp_dict={}\n",
    "    eng_dict={}\n",
    "    \n",
    "    \n",
    "    eng_dict=extract_dictionary(eng_text,{\"language\":\"english\",\"manga\":manga})\n",
    "\n",
    "  \n",
    "    jp_dict=extract_dictionary(jp_text,{\"language\":\"jp\",\"manga\":manga})\n",
    "   \n",
    "    \n",
    "\n",
    "    translate=pd.DataFrame(jp_dict)\n",
    "    translate=translate.append(eng_dict,True)\n",
    "    translate[\"image\"]=jpg\n",
    "    translate[\"link\"]=link\n",
    "    \n",
    "    next_page_href=\"\"\n",
    "    next_link=soup.select('div.btn-control-container')\n",
    "    next_link=next_link[0].select('a')\n",
    "    if len(next_link)>1:\n",
    "        \n",
    "        next_page_href=next_link[1][\"href\"]\n",
    "    \n",
    "    return translate\n",
    "\n",
    "\n",
    "def save_file(dir_path,file_id,link):\n",
    "    if os.path.isdir(dir_path)==False:\n",
    "        os.mkdir(dir_path)\n",
    "    \n",
    "    path=os.path.join(dir_path,file_id)\n",
    "\n",
    "    urllib.request.urlretrieve(link,path+\".jpg\")\n",
    "    \n",
    "def get_link(soup):\n",
    "    \n",
    "    next_page_href=\"\"\n",
    "    next_link=soup.select('div.btn-control-container')\n",
    "    next_link=next_link[0].select('a')\n",
    "    if len(next_link)>1:\n",
    "        \n",
    "        next_page_href=next_link[1][\"href\"]\n",
    "    \n",
    "    return next_page_href\n",
    "    "
   ]
  },
  {
   "cell_type": "code",
   "execution_count": 59,
   "metadata": {},
   "outputs": [],
   "source": [
    "#import argparse\n",
    "#from selenium import webdriver\n",
    "#import time\n",
    "\n",
    "#from PIL import Image\n",
    "#import os\n",
    "\n",
    "\n",
    "def CreateWebDriver(path=\"chromedriver\"):\n",
    "    chrome_options = webdriver.ChromeOptions()\n",
    "    chrome_options.add_argument('--no-sandbox')\n",
    "    chrome_options.add_argument('--disable-dev-shm-usage')\n",
    "    chrome_options.add_argument('--disable-gpu')\n",
    "    chrome_options.add_argument('--headless')\n",
    "    chrome_options.add_argument(\"--window-size=4000,3000\")\n",
    "    return webdriver.Chrome(\n",
    "        path,\n",
    "        options=chrome_options)\n",
    "\n",
    "\n",
    "def SaveImage(driver, html_element, output):\n",
    "    driver.save_screenshot(output)\n",
    "\n",
    "    height = html_element.get_attribute(\"height\")\n",
    "    width = html_element.get_attribute(\"width\")\n",
    "    location = html_element.location\n",
    "    size = html_element.size\n",
    "\n",
    "    x = location['x']\n",
    "    y = location['y']\n",
    "    width = location['x'] + size['width']\n",
    "    height = location['y'] + size['height']\n",
    "\n",
    "    im = Image.open(output)\n",
    "    im = im.crop((int(x), int(y), int(width), int(height)))\n",
    "    im.save(output)\n"
   ]
  },
  {
   "cell_type": "code",
   "execution_count": 60,
   "metadata": {},
   "outputs": [],
   "source": [
    "def save_eng_jp_pairs(driver,link,dir_path,file_id):\n",
    "    if os.path.isdir(dir_path)==False:\n",
    "        os.mkdir(dir_path)\n",
    "    \n",
    "    \n",
    "    driver.get(link)\n",
    "    time.sleep(1)\n",
    "    path=os.path.join(dir_path,file_id)\n",
    "\n",
    "    element=driver.find_element_by_class_name(\"image-container\")\n",
    "    \n",
    "    SaveImage(driver,element,path+\"_jp.png\")\n",
    "    driver.find_element_by_id(\"js-ripple-btn\").click()\n",
    "    time.sleep(.1)\n",
    "    SaveImage(driver,element,path+\"_en.png\")"
   ]
  },
  {
   "cell_type": "code",
   "execution_count": null,
   "metadata": {},
   "outputs": [],
   "source": [
    "link=\"https://bilingualmanga.com/manga/yokohama-shopping-trip/chapter-5/1-21\"\n",
    "resp=req.get(\"https://bilingualmanga.com/manga/yokohama-shopping-trip/chapter-1/1-2\")\n",
    "\n",
    "soup = BeautifulSoup(resp.text, 'lxml')\n",
    "frame,next_link=parse_soup_page(soup,link)"
   ]
  },
  {
   "cell_type": "code",
   "execution_count": 4,
   "metadata": {},
   "outputs": [],
   "source": [
    "def get_link(soup):\n",
    "    \n",
    "    next_page_href=\"\"\n",
    "    next_link=soup.select('div.btn-control-container')\n",
    "    next_link=next_link[0].select('a')\n",
    "    if len(next_link)>1:\n",
    "        \n",
    "        next_page_href=next_link[1][\"href\"]\n",
    "    \n",
    "    return next_page_href"
   ]
  },
  {
   "cell_type": "code",
   "execution_count": null,
   "metadata": {},
   "outputs": [],
   "source": []
  },
  {
   "cell_type": "code",
   "execution_count": 56,
   "metadata": {},
   "outputs": [],
   "source": [
    "def extract_manga(link,save_dir=\"/home/data/bilingual/\"):\n",
    "\n",
    "    all_frames=pd.DataFrame()\n",
    "    for i in range(8):\n",
    "        last_link=link\n",
    "        resp=req.get(link)\n",
    "        soup = BeautifulSoup(resp.text, 'lxml')\n",
    "\n",
    "        link=get_link(soup) #link to next page\n",
    "        \n",
    "        frame=[]\n",
    "        try:\n",
    "            frame=parse_soup_page(soup,link)\n",
    "            \n",
    "        except:\n",
    "            pass \n",
    "\n",
    "        link=\"https://bilingualmanga.com/\"+link\n",
    "\n",
    "        print(link)\n",
    "        print(len(frame))\n",
    "        if len(frame)!=0:\n",
    "            frame[\"id\"]=i\n",
    "            frame[\"link\"]=last_link\n",
    "            all_frames=all_frames.append(frame)\n",
    "     \n",
    "            img_link=frame[\"image\"].unique()[0]\n",
    "            manga_name=frame[\"manga\"].unique()[0]\n",
    "            \n",
    "            manga_dir=os.path.join(save_dir,manga_name)\n",
    "            print(img_link)\n",
    "\n",
    "            save_file(manga_dir,str(i),img_link)\n",
    "    \n",
    "    \n",
    "    all_frames=all_frames.reset_index() \n",
    "    return all_frames"
   ]
  },
  {
   "cell_type": "code",
   "execution_count": 55,
   "metadata": {},
   "outputs": [
    {
     "data": {
      "text/plain": [
       "0     https://bilingualmanga.com/manga/my-son-is-pro...\n",
       "1     https://bilingualmanga.com/manga/my-son-is-pro...\n",
       "2     https://bilingualmanga.com/manga/my-son-is-pro...\n",
       "3     https://bilingualmanga.com/manga/my-son-is-pro...\n",
       "4     https://bilingualmanga.com/manga/my-son-is-pro...\n",
       "                            ...                        \n",
       "87    https://bilingualmanga.com//manga/my-son-is-pr...\n",
       "88    https://bilingualmanga.com//manga/my-son-is-pr...\n",
       "89    https://bilingualmanga.com//manga/my-son-is-pr...\n",
       "90    https://bilingualmanga.com//manga/my-son-is-pr...\n",
       "91    https://bilingualmanga.com//manga/my-son-is-pr...\n",
       "Name: link, Length: 92, dtype: object"
      ]
     },
     "execution_count": 55,
     "metadata": {},
     "output_type": "execute_result"
    }
   ],
   "source": []
  },
  {
   "cell_type": "code",
   "execution_count": 57,
   "metadata": {},
   "outputs": [
    {
     "name": "stdout",
     "output_type": "stream",
     "text": [
      "My_Son_Is_Probably_Gay\n",
      "https://bilingualmanga.com//manga/my-son-is-probably-gay/chapter-2/1-1\n",
      "26\n",
      "https://3.bp.blogspot.com/-NWRAbkQkznc/XmHm_W-QQLI/AAAAAAAAE44/NjeA7sAy0TUQkS4hrSnyNpNRt2iIGMxiwCLcBGAsYHQ/s1600/4.jpg\n",
      "My_Son_Is_Probably_Gay\n",
      "https://bilingualmanga.com//manga/my-son-is-probably-gay/chapter-2/1-2\n",
      "10\n",
      "https://2.bp.blogspot.com/-JhmyRS-lruo/XqJ-J8UunxI/AAAAAAAAFN8/QRIyRKW_oF4iqz7msW1FYPUO-cgEdW6owCLcBGAsYHQ/s1600/1.png\n",
      "My_Son_Is_Probably_Gay\n",
      "https://bilingualmanga.com//manga/my-son-is-probably-gay/chapter-2/1-3\n",
      "10\n",
      "https://4.bp.blogspot.com/--Jy5X1U0lR8/XqJ-J-LxYlI/AAAAAAAAFOA/lpQ0IqVfrfImNhwzPP3iG8kMjlXCNFNwwCLcBGAsYHQ/s1600/2.png\n",
      "My_Son_Is_Probably_Gay\n",
      "https://bilingualmanga.com//manga/my-son-is-probably-gay/chapter-2/1-4\n",
      "18\n",
      "https://3.bp.blogspot.com/-kUuYWIF4imU/XqJ-KFezjcI/AAAAAAAAFOE/w-AHaYa25z4ibMEgxbFwq8Sg_oklhwIhACLcBGAsYHQ/s1600/3.png\n",
      "My_Son_Is_Probably_Gay\n",
      "https://bilingualmanga.com//manga/my-son-is-probably-gay/chapter-3/1-1\n",
      "20\n",
      "https://1.bp.blogspot.com/-dvuNoVf9Jxs/XqJ-KlrzLNI/AAAAAAAAFOI/byE-GAaSmk0gcwRnqcsoGZElz6lOqdbBwCLcBGAsYHQ/s1600/4.png\n",
      "My_Son_Is_Probably_Gay\n",
      "https://bilingualmanga.com//manga/my-son-is-probably-gay/chapter-3/1-2\n",
      "0\n",
      "My_Son_Is_Probably_Gay\n",
      "https://bilingualmanga.com//manga/my-son-is-probably-gay/chapter-3/1-3\n",
      "0\n",
      "My_Son_Is_Probably_Gay\n",
      "https://bilingualmanga.com//manga/my-son-is-probably-gay/chapter-3/1-4\n",
      "8\n",
      "https://1.bp.blogspot.com/-DWDzzvo8NYI/Xq1wgSnOM-I/AAAAAAAAFcA/rnAqsYq_XVA0XwHqilSJDWIY9VIXSMO3gCLcBGAsYHQ/s1600/3.png\n"
     ]
    }
   ],
   "source": [
    "link=\"https://bilingualmanga.com/manga/my-son-is-probably-gay/chapter-1/1-4\"\n",
    "#link=\"https://bilingualmanga.com/\"+link\n",
    "\n",
    "b=extract_manga(link)"
   ]
  },
  {
   "cell_type": "code",
   "execution_count": 53,
   "metadata": {},
   "outputs": [
    {
     "data": {
      "text/plain": [
       "'https://bilingualmanga.com/manga/my-son-is-probably-gay/chapter-1/1-4'"
      ]
     },
     "execution_count": 53,
     "metadata": {},
     "output_type": "execute_result"
    }
   ],
   "source": [
    "b.link.values[0]"
   ]
  },
  {
   "cell_type": "code",
   "execution_count": 25,
   "metadata": {},
   "outputs": [],
   "source": [
    "all_frames.to_csv(\"temp.tsv\",sep=\"\\t\",index=False)"
   ]
  },
  {
   "cell_type": "code",
   "execution_count": 28,
   "metadata": {},
   "outputs": [
    {
     "data": {
      "text/html": [
       "<div>\n",
       "<style scoped>\n",
       "    .dataframe tbody tr th:only-of-type {\n",
       "        vertical-align: middle;\n",
       "    }\n",
       "\n",
       "    .dataframe tbody tr th {\n",
       "        vertical-align: top;\n",
       "    }\n",
       "\n",
       "    .dataframe thead th {\n",
       "        text-align: right;\n",
       "    }\n",
       "</style>\n",
       "<table border=\"1\" class=\"dataframe\">\n",
       "  <thead>\n",
       "    <tr style=\"text-align: right;\">\n",
       "      <th></th>\n",
       "      <th>index</th>\n",
       "      <th>font-family</th>\n",
       "      <th>font-size</th>\n",
       "      <th>color</th>\n",
       "      <th>left</th>\n",
       "      <th>top</th>\n",
       "      <th>text-shadow</th>\n",
       "      <th>text</th>\n",
       "      <th>box_id</th>\n",
       "      <th>language</th>\n",
       "      <th>manga</th>\n",
       "      <th>-ms-transform</th>\n",
       "      <th>-webkit-transform</th>\n",
       "      <th>transform</th>\n",
       "      <th>width</th>\n",
       "      <th>image</th>\n",
       "      <th>link</th>\n",
       "      <th>id</th>\n",
       "    </tr>\n",
       "  </thead>\n",
       "  <tbody>\n",
       "    <tr>\n",
       "      <th>0</th>\n",
       "      <td>0</td>\n",
       "      <td>yasashisa-antique, sans-serif</td>\n",
       "      <td>26.0</td>\n",
       "      <td>['0', '0', '0']</td>\n",
       "      <td>619.0</td>\n",
       "      <td>825.0</td>\n",
       "      <td>none</td>\n",
       "      <td>いいよ\\n将来しょうらい食たべたく\\nなったら</td>\n",
       "      <td>0</td>\n",
       "      <td>jp</td>\n",
       "      <td>My_Son_Is_Probably_Gay</td>\n",
       "      <td>NaN</td>\n",
       "      <td>NaN</td>\n",
       "      <td>NaN</td>\n",
       "      <td>NaN</td>\n",
       "      <td>https://4.bp.blogspot.com/-_-Q0q-WkEXE/XmHm-lu...</td>\n",
       "      <td>NaN</td>\n",
       "      <td>0</td>\n",
       "    </tr>\n",
       "    <tr>\n",
       "      <th>1</th>\n",
       "      <td>1</td>\n",
       "      <td>yasashisa-antique, sans-serif</td>\n",
       "      <td>26.0</td>\n",
       "      <td>['0', '0', '0']</td>\n",
       "      <td>120.0</td>\n",
       "      <td>851.0</td>\n",
       "      <td>none</td>\n",
       "      <td>料理りょうりが得とく意いな\\n彼かれ氏しに作つくって\\nもらうからー</td>\n",
       "      <td>1</td>\n",
       "      <td>jp</td>\n",
       "      <td>My_Son_Is_Probably_Gay</td>\n",
       "      <td>NaN</td>\n",
       "      <td>NaN</td>\n",
       "      <td>NaN</td>\n",
       "      <td>NaN</td>\n",
       "      <td>https://4.bp.blogspot.com/-_-Q0q-WkEXE/XmHm-lu...</td>\n",
       "      <td>NaN</td>\n",
       "      <td>0</td>\n",
       "    </tr>\n",
       "    <tr>\n",
       "      <th>2</th>\n",
       "      <td>2</td>\n",
       "      <td>yasashisa-antique, sans-serif</td>\n",
       "      <td>18.0</td>\n",
       "      <td>['0', '0', '0']</td>\n",
       "      <td>564.0</td>\n",
       "      <td>562.0</td>\n",
       "      <td>none</td>\n",
       "      <td>将来しょうらいあんたは\\nこのカレーが\\n無性むしょうに食たべたく\\nなるのよ</td>\n",
       "      <td>2</td>\n",
       "      <td>jp</td>\n",
       "      <td>My_Son_Is_Probably_Gay</td>\n",
       "      <td>NaN</td>\n",
       "      <td>NaN</td>\n",
       "      <td>NaN</td>\n",
       "      <td>NaN</td>\n",
       "      <td>https://4.bp.blogspot.com/-_-Q0q-WkEXE/XmHm-lu...</td>\n",
       "      <td>NaN</td>\n",
       "      <td>0</td>\n",
       "    </tr>\n",
       "    <tr>\n",
       "      <th>3</th>\n",
       "      <td>3</td>\n",
       "      <td>yasashisa-antique, sans-serif</td>\n",
       "      <td>18.0</td>\n",
       "      <td>['0', '0', '0']</td>\n",
       "      <td>681.0</td>\n",
       "      <td>484.0</td>\n",
       "      <td>none</td>\n",
       "      <td>いわゆる\\nおふくろの味あじって\\nやつだねー</td>\n",
       "      <td>3</td>\n",
       "      <td>jp</td>\n",
       "      <td>My_Son_Is_Probably_Gay</td>\n",
       "      <td>NaN</td>\n",
       "      <td>NaN</td>\n",
       "      <td>NaN</td>\n",
       "      <td>NaN</td>\n",
       "      <td>https://4.bp.blogspot.com/-_-Q0q-WkEXE/XmHm-lu...</td>\n",
       "      <td>NaN</td>\n",
       "      <td>0</td>\n",
       "    </tr>\n",
       "    <tr>\n",
       "      <th>4</th>\n",
       "      <td>4</td>\n",
       "      <td>yasashisa-antique, sans-serif</td>\n",
       "      <td>19.0</td>\n",
       "      <td>['0', '0', '0']</td>\n",
       "      <td>80.0</td>\n",
       "      <td>538.0</td>\n",
       "      <td>none</td>\n",
       "      <td>えー？ だって\\nコーン入いれるだけ\\nでしょ？</td>\n",
       "      <td>4</td>\n",
       "      <td>jp</td>\n",
       "      <td>My_Son_Is_Probably_Gay</td>\n",
       "      <td>NaN</td>\n",
       "      <td>NaN</td>\n",
       "      <td>NaN</td>\n",
       "      <td>NaN</td>\n",
       "      <td>https://4.bp.blogspot.com/-_-Q0q-WkEXE/XmHm-lu...</td>\n",
       "      <td>NaN</td>\n",
       "      <td>0</td>\n",
       "    </tr>\n",
       "    <tr>\n",
       "      <th>...</th>\n",
       "      <td>...</td>\n",
       "      <td>...</td>\n",
       "      <td>...</td>\n",
       "      <td>...</td>\n",
       "      <td>...</td>\n",
       "      <td>...</td>\n",
       "      <td>...</td>\n",
       "      <td>...</td>\n",
       "      <td>...</td>\n",
       "      <td>...</td>\n",
       "      <td>...</td>\n",
       "      <td>...</td>\n",
       "      <td>...</td>\n",
       "      <td>...</td>\n",
       "      <td>...</td>\n",
       "      <td>...</td>\n",
       "      <td>...</td>\n",
       "      <td>...</td>\n",
       "    </tr>\n",
       "    <tr>\n",
       "      <th>133</th>\n",
       "      <td>15</td>\n",
       "      <td>anime-ace, sans-serif</td>\n",
       "      <td>16.0</td>\n",
       "      <td>['0', '0', '0']</td>\n",
       "      <td>378.0</td>\n",
       "      <td>752.0</td>\n",
       "      <td>none</td>\n",
       "      <td>has something changed about the recipe!?</td>\n",
       "      <td>5</td>\n",
       "      <td>english</td>\n",
       "      <td>My_Son_Is_Probably_Gay</td>\n",
       "      <td>NaN</td>\n",
       "      <td>NaN</td>\n",
       "      <td>NaN</td>\n",
       "      <td>132.0</td>\n",
       "      <td>https://1.bp.blogspot.com/-dvuNoVf9Jxs/XqJ-Klr...</td>\n",
       "      <td>NaN</td>\n",
       "      <td>7</td>\n",
       "    </tr>\n",
       "    <tr>\n",
       "      <th>134</th>\n",
       "      <td>16</td>\n",
       "      <td>anime-ace, sans-serif</td>\n",
       "      <td>12.0</td>\n",
       "      <td>['0', '0', '0']</td>\n",
       "      <td>233.0</td>\n",
       "      <td>443.0</td>\n",
       "      <td>none</td>\n",
       "      <td>my son is probably gay</td>\n",
       "      <td>6</td>\n",
       "      <td>english</td>\n",
       "      <td>My_Son_Is_Probably_Gay</td>\n",
       "      <td>NaN</td>\n",
       "      <td>NaN</td>\n",
       "      <td>NaN</td>\n",
       "      <td>91.0</td>\n",
       "      <td>https://1.bp.blogspot.com/-dvuNoVf9Jxs/XqJ-Klr...</td>\n",
       "      <td>NaN</td>\n",
       "      <td>7</td>\n",
       "    </tr>\n",
       "    <tr>\n",
       "      <th>135</th>\n",
       "      <td>17</td>\n",
       "      <td>anime-ace, sans-serif</td>\n",
       "      <td>15.0</td>\n",
       "      <td>['0', '0', '0']</td>\n",
       "      <td>106.0</td>\n",
       "      <td>427.0</td>\n",
       "      <td>none</td>\n",
       "      <td>he's a little obvious but his heart is in the ...</td>\n",
       "      <td>7</td>\n",
       "      <td>english</td>\n",
       "      <td>My_Son_Is_Probably_Gay</td>\n",
       "      <td>NaN</td>\n",
       "      <td>NaN</td>\n",
       "      <td>NaN</td>\n",
       "      <td>107.0</td>\n",
       "      <td>https://1.bp.blogspot.com/-dvuNoVf9Jxs/XqJ-Klr...</td>\n",
       "      <td>NaN</td>\n",
       "      <td>7</td>\n",
       "    </tr>\n",
       "    <tr>\n",
       "      <th>136</th>\n",
       "      <td>18</td>\n",
       "      <td>anime-ace, sans-serif</td>\n",
       "      <td>14.0</td>\n",
       "      <td>['0', '0', '0']</td>\n",
       "      <td>216.0</td>\n",
       "      <td>933.0</td>\n",
       "      <td>none</td>\n",
       "      <td>i didn't change anything</td>\n",
       "      <td>8</td>\n",
       "      <td>english</td>\n",
       "      <td>My_Son_Is_Probably_Gay</td>\n",
       "      <td>NaN</td>\n",
       "      <td>NaN</td>\n",
       "      <td>NaN</td>\n",
       "      <td>111.0</td>\n",
       "      <td>https://1.bp.blogspot.com/-dvuNoVf9Jxs/XqJ-Klr...</td>\n",
       "      <td>NaN</td>\n",
       "      <td>7</td>\n",
       "    </tr>\n",
       "    <tr>\n",
       "      <th>137</th>\n",
       "      <td>19</td>\n",
       "      <td>anime-ace, sans-serif</td>\n",
       "      <td>15.0</td>\n",
       "      <td>['0', '0', '0']</td>\n",
       "      <td>84.0</td>\n",
       "      <td>1002.0</td>\n",
       "      <td>none</td>\n",
       "      <td>really-?</td>\n",
       "      <td>9</td>\n",
       "      <td>english</td>\n",
       "      <td>My_Son_Is_Probably_Gay</td>\n",
       "      <td>NaN</td>\n",
       "      <td>NaN</td>\n",
       "      <td>NaN</td>\n",
       "      <td>122.0</td>\n",
       "      <td>https://1.bp.blogspot.com/-dvuNoVf9Jxs/XqJ-Klr...</td>\n",
       "      <td>NaN</td>\n",
       "      <td>7</td>\n",
       "    </tr>\n",
       "  </tbody>\n",
       "</table>\n",
       "<p>138 rows × 18 columns</p>\n",
       "</div>"
      ],
      "text/plain": [
       "     index                    font-family  font-size            color   left  \\\n",
       "0        0  yasashisa-antique, sans-serif       26.0  ['0', '0', '0']  619.0   \n",
       "1        1  yasashisa-antique, sans-serif       26.0  ['0', '0', '0']  120.0   \n",
       "2        2  yasashisa-antique, sans-serif       18.0  ['0', '0', '0']  564.0   \n",
       "3        3  yasashisa-antique, sans-serif       18.0  ['0', '0', '0']  681.0   \n",
       "4        4  yasashisa-antique, sans-serif       19.0  ['0', '0', '0']   80.0   \n",
       "..     ...                            ...        ...              ...    ...   \n",
       "133     15          anime-ace, sans-serif       16.0  ['0', '0', '0']  378.0   \n",
       "134     16          anime-ace, sans-serif       12.0  ['0', '0', '0']  233.0   \n",
       "135     17          anime-ace, sans-serif       15.0  ['0', '0', '0']  106.0   \n",
       "136     18          anime-ace, sans-serif       14.0  ['0', '0', '0']  216.0   \n",
       "137     19          anime-ace, sans-serif       15.0  ['0', '0', '0']   84.0   \n",
       "\n",
       "        top text-shadow                                               text  \\\n",
       "0     825.0        none                            いいよ\\n将来しょうらい食たべたく\\nなったら   \n",
       "1     851.0        none                 料理りょうりが得とく意いな\\n彼かれ氏しに作つくって\\nもらうからー   \n",
       "2     562.0        none            将来しょうらいあんたは\\nこのカレーが\\n無性むしょうに食たべたく\\nなるのよ   \n",
       "3     484.0        none                            いわゆる\\nおふくろの味あじって\\nやつだねー   \n",
       "4     538.0        none                           えー？ だって\\nコーン入いれるだけ\\nでしょ？   \n",
       "..      ...         ...                                                ...   \n",
       "133   752.0        none           has something changed about the recipe!?   \n",
       "134   443.0        none                             my son is probably gay   \n",
       "135   427.0        none  he's a little obvious but his heart is in the ...   \n",
       "136   933.0        none                           i didn't change anything   \n",
       "137  1002.0        none                                           really-?   \n",
       "\n",
       "     box_id language                   manga -ms-transform -webkit-transform  \\\n",
       "0         0       jp  My_Son_Is_Probably_Gay           NaN               NaN   \n",
       "1         1       jp  My_Son_Is_Probably_Gay           NaN               NaN   \n",
       "2         2       jp  My_Son_Is_Probably_Gay           NaN               NaN   \n",
       "3         3       jp  My_Son_Is_Probably_Gay           NaN               NaN   \n",
       "4         4       jp  My_Son_Is_Probably_Gay           NaN               NaN   \n",
       "..      ...      ...                     ...           ...               ...   \n",
       "133       5  english  My_Son_Is_Probably_Gay           NaN               NaN   \n",
       "134       6  english  My_Son_Is_Probably_Gay           NaN               NaN   \n",
       "135       7  english  My_Son_Is_Probably_Gay           NaN               NaN   \n",
       "136       8  english  My_Son_Is_Probably_Gay           NaN               NaN   \n",
       "137       9  english  My_Son_Is_Probably_Gay           NaN               NaN   \n",
       "\n",
       "    transform  width                                              image  link  \\\n",
       "0         NaN    NaN  https://4.bp.blogspot.com/-_-Q0q-WkEXE/XmHm-lu...   NaN   \n",
       "1         NaN    NaN  https://4.bp.blogspot.com/-_-Q0q-WkEXE/XmHm-lu...   NaN   \n",
       "2         NaN    NaN  https://4.bp.blogspot.com/-_-Q0q-WkEXE/XmHm-lu...   NaN   \n",
       "3         NaN    NaN  https://4.bp.blogspot.com/-_-Q0q-WkEXE/XmHm-lu...   NaN   \n",
       "4         NaN    NaN  https://4.bp.blogspot.com/-_-Q0q-WkEXE/XmHm-lu...   NaN   \n",
       "..        ...    ...                                                ...   ...   \n",
       "133       NaN  132.0  https://1.bp.blogspot.com/-dvuNoVf9Jxs/XqJ-Klr...   NaN   \n",
       "134       NaN   91.0  https://1.bp.blogspot.com/-dvuNoVf9Jxs/XqJ-Klr...   NaN   \n",
       "135       NaN  107.0  https://1.bp.blogspot.com/-dvuNoVf9Jxs/XqJ-Klr...   NaN   \n",
       "136       NaN  111.0  https://1.bp.blogspot.com/-dvuNoVf9Jxs/XqJ-Klr...   NaN   \n",
       "137       NaN  122.0  https://1.bp.blogspot.com/-dvuNoVf9Jxs/XqJ-Klr...   NaN   \n",
       "\n",
       "     id  \n",
       "0     0  \n",
       "1     0  \n",
       "2     0  \n",
       "3     0  \n",
       "4     0  \n",
       "..   ..  \n",
       "133   7  \n",
       "134   7  \n",
       "135   7  \n",
       "136   7  \n",
       "137   7  \n",
       "\n",
       "[138 rows x 18 columns]"
      ]
     },
     "execution_count": 28,
     "metadata": {},
     "output_type": "execute_result"
    }
   ],
   "source": [
    "pd.read_csv(\"temp.tsv\",sep=\"\\t\")"
   ]
  },
  {
   "cell_type": "code",
   "execution_count": 162,
   "metadata": {},
   "outputs": [],
   "source": [
    "subset=all_frames[all_frames[\"manga\"]==\"Yokohama_Shopping_Trip\"]"
   ]
  },
  {
   "cell_type": "code",
   "execution_count": 179,
   "metadata": {},
   "outputs": [
    {
     "data": {
      "text/plain": [
       "31                            いいよ\\n今日きょうは\\nサービスだ！\n",
       "41    take care now. the roads aren't too good...\n",
       "Name: text, dtype: object"
      ]
     },
     "execution_count": 179,
     "metadata": {},
     "output_type": "execute_result"
    }
   ],
   "source": [
    "subset[(subset.id==5)&(subset.box_id==3)][\"text\"]"
   ]
  },
  {
   "cell_type": "code",
   "execution_count": 158,
   "metadata": {},
   "outputs": [
    {
     "name": "stdout",
     "output_type": "stream",
     "text": [
      "CPU times: user 0 ns, sys: 0 ns, total: 0 ns\n",
      "Wall time: 265 µs\n"
     ]
    },
    {
     "data": {
      "text/plain": [
       "Int64Index([ 0,  1,  2,  3,  4,  5,  6,  7,  8,  9, 10, 11, 12, 13, 14, 15, 16,\n",
       "            17, 18, 19, 20, 21, 22, 23, 24, 25, 26, 27, 28, 29, 30, 31, 32, 33,\n",
       "            34, 35, 36, 37, 38, 39, 40, 41, 42, 43, 44, 45, 46, 47, 48, 49, 50,\n",
       "            51, 52, 53, 54, 55, 56, 57, 58, 59, 60, 61, 62, 63, 64, 65, 66, 67,\n",
       "            68, 69, 70, 71, 72, 73],\n",
       "           dtype='int64')"
      ]
     },
     "execution_count": 158,
     "metadata": {},
     "output_type": "execute_result"
    }
   ],
   "source": [
    "%%time\n",
    "subset[subset.index.unique()"
   ]
  },
  {
   "cell_type": "code",
   "execution_count": 49,
   "metadata": {},
   "outputs": [
    {
     "data": {
      "text/plain": [
       "'Yokohama_Shopping_Trip'"
      ]
     },
     "execution_count": 49,
     "metadata": {},
     "output_type": "execute_result"
    }
   ],
   "source": [
    "frame[\"manga\"].unique()[0]"
   ]
  },
  {
   "cell_type": "code",
   "execution_count": 19,
   "metadata": {},
   "outputs": [],
   "source": [
    "import urllib.request\n",
    "def save_img_soupy(directory,manga_name,link):\n",
    "   "
   ]
  },
  {
   "cell_type": "code",
   "execution_count": 24,
   "metadata": {},
   "outputs": [
    {
     "name": "stdout",
     "output_type": "stream",
     "text": [
      "Manga109s  manga109s.zip\n"
     ]
    }
   ],
   "source": [
    "!ls /home/data"
   ]
  },
  {
   "cell_type": "code",
   "execution_count": 26,
   "metadata": {},
   "outputs": [],
   "source": [
    "#os.mkdir( path, 0755 )\n",
    "import os"
   ]
  },
  {
   "cell_type": "code",
   "execution_count": 32,
   "metadata": {},
   "outputs": [
    {
     "data": {
      "text/plain": [
       "0"
      ]
     },
     "execution_count": 32,
     "metadata": {},
     "output_type": "execute_result"
    }
   ],
   "source": [
    "#os.system(\"sudo mkdir {}\".format(\"/home/data/bilingual/temp\"))\n",
    "#os.mkdir(\"/home/data/bilingual/temp\")"
   ]
  },
  {
   "cell_type": "code",
   "execution_count": 37,
   "metadata": {},
   "outputs": [
    {
     "data": {
      "text/plain": [
       "True"
      ]
     },
     "execution_count": 37,
     "metadata": {},
     "output_type": "execute_result"
    }
   ],
   "source": [
    "os.mkdir(\"/home/data/bilingual/temp\")\n",
    "os.path.isdir(\"/home/data/bilingual/temp\")"
   ]
  },
  {
   "cell_type": "code",
   "execution_count": 65,
   "metadata": {},
   "outputs": [],
   "source": [
    "\n",
    "    \n",
    "    \n"
   ]
  },
  {
   "cell_type": "code",
   "execution_count": 66,
   "metadata": {},
   "outputs": [],
   "source": [
    "img_link=frame[\"image\"].unique()[0]\n",
    "manga_name=frame[\"manga\"].unique()[0]"
   ]
  },
  {
   "cell_type": "code",
   "execution_count": 67,
   "metadata": {},
   "outputs": [],
   "source": [
    "manga_dir=os.path.join(\"/home/data/bilingual\",manga_name)\n",
    "file_path=os.path.join(manga_dir,str(1))"
   ]
  },
  {
   "cell_type": "code",
   "execution_count": 68,
   "metadata": {},
   "outputs": [],
   "source": [
    "save_file(manga_dir,\"1\",img_link)"
   ]
  },
  {
   "cell_type": "code",
   "execution_count": 69,
   "metadata": {},
   "outputs": [],
   "source": [
    "!cp \"/home/data/bilingual/Yokohama_Shopping_Trip/1.jpg\" \"1.jpg\"\n",
    "#save_file( os.path.join(\"/home/data/bilingual\",manga_name), frame[\"image\"].unique()[0]"
   ]
  },
  {
   "cell_type": "code",
   "execution_count": 54,
   "metadata": {},
   "outputs": [],
   "source": [
    "style=sub.get_attribute_list(\"style\")\n",
    "\n",
    "attribute_elements=style[0].split(\";\")"
   ]
  },
  {
   "cell_type": "code",
   "execution_count": 55,
   "metadata": {},
   "outputs": [],
   "source": [
    "font_family=attribute_elements[0]\n",
    "key=font_family.split(\":\")[0]\n",
    "fonts=font_family.split(\":\")[1].split(\", \")"
   ]
  },
  {
   "cell_type": "code",
   "execution_count": 85,
   "metadata": {},
   "outputs": [],
   "source": [
    "font_size=attribute_elements[1]\n",
    "key=font_size.split(\":\")[0]\n",
    "size=font_size.split(\":\")[1]   #.split(\", \")"
   ]
  },
  {
   "cell_type": "code",
   "execution_count": 86,
   "metadata": {},
   "outputs": [
    {
     "data": {
      "text/plain": [
       "'font-size'"
      ]
     },
     "execution_count": 86,
     "metadata": {},
     "output_type": "execute_result"
    }
   ],
   "source": [
    "key"
   ]
  },
  {
   "cell_type": "code",
   "execution_count": 79,
   "metadata": {},
   "outputs": [],
   "source": [
    "color=attribute_elements[2]\n",
    "key=color.split(\":\")[0]\n",
    "vals=color.split(\":\")[1]"
   ]
  },
  {
   "cell_type": "code",
   "execution_count": 89,
   "metadata": {},
   "outputs": [],
   "source": [
    "\n"
   ]
  },
  {
   "cell_type": "code",
   "execution_count": 82,
   "metadata": {},
   "outputs": [
    {
     "data": {
      "text/plain": [
       "['0', '0', '0']"
      ]
     },
     "execution_count": 82,
     "metadata": {},
     "output_type": "execute_result"
    }
   ],
   "source": [
    "parse_color(key,vals)"
   ]
  },
  {
   "cell_type": "code",
   "execution_count": 22,
   "metadata": {},
   "outputs": [
    {
     "ename": "JSONDecodeError",
     "evalue": "Expecting value: line 1 column 1 (char 0)",
     "output_type": "error",
     "traceback": [
      "\u001b[0;31m---------------------------------------------------------------------------\u001b[0m",
      "\u001b[0;31mJSONDecodeError\u001b[0m                           Traceback (most recent call last)",
      "\u001b[0;32m<ipython-input-22-a7a2a59a639f>\u001b[0m in \u001b[0;36m<module>\u001b[0;34m\u001b[0m\n\u001b[1;32m      1\u001b[0m \u001b[0;32mimport\u001b[0m \u001b[0mjson\u001b[0m\u001b[0;34m\u001b[0m\u001b[0;34m\u001b[0m\u001b[0m\n\u001b[0;32m----> 2\u001b[0;31m \u001b[0mjson\u001b[0m\u001b[0;34m.\u001b[0m\u001b[0mloads\u001b[0m\u001b[0;34m(\u001b[0m\u001b[0mstr\u001b[0m\u001b[0;34m(\u001b[0m\u001b[0msoup\u001b[0m\u001b[0;34m)\u001b[0m\u001b[0;34m)\u001b[0m\u001b[0;34m\u001b[0m\u001b[0;34m\u001b[0m\u001b[0m\n\u001b[0m",
      "\u001b[0;32m/opt/conda/lib/python3.7/json/__init__.py\u001b[0m in \u001b[0;36mloads\u001b[0;34m(s, encoding, cls, object_hook, parse_float, parse_int, parse_constant, object_pairs_hook, **kw)\u001b[0m\n\u001b[1;32m    346\u001b[0m             \u001b[0mparse_int\u001b[0m \u001b[0;32mis\u001b[0m \u001b[0;32mNone\u001b[0m \u001b[0;32mand\u001b[0m \u001b[0mparse_float\u001b[0m \u001b[0;32mis\u001b[0m \u001b[0;32mNone\u001b[0m \u001b[0;32mand\u001b[0m\u001b[0;34m\u001b[0m\u001b[0;34m\u001b[0m\u001b[0m\n\u001b[1;32m    347\u001b[0m             parse_constant is None and object_pairs_hook is None and not kw):\n\u001b[0;32m--> 348\u001b[0;31m         \u001b[0;32mreturn\u001b[0m \u001b[0m_default_decoder\u001b[0m\u001b[0;34m.\u001b[0m\u001b[0mdecode\u001b[0m\u001b[0;34m(\u001b[0m\u001b[0ms\u001b[0m\u001b[0;34m)\u001b[0m\u001b[0;34m\u001b[0m\u001b[0;34m\u001b[0m\u001b[0m\n\u001b[0m\u001b[1;32m    349\u001b[0m     \u001b[0;32mif\u001b[0m \u001b[0mcls\u001b[0m \u001b[0;32mis\u001b[0m \u001b[0;32mNone\u001b[0m\u001b[0;34m:\u001b[0m\u001b[0;34m\u001b[0m\u001b[0;34m\u001b[0m\u001b[0m\n\u001b[1;32m    350\u001b[0m         \u001b[0mcls\u001b[0m \u001b[0;34m=\u001b[0m \u001b[0mJSONDecoder\u001b[0m\u001b[0;34m\u001b[0m\u001b[0;34m\u001b[0m\u001b[0m\n",
      "\u001b[0;32m/opt/conda/lib/python3.7/json/decoder.py\u001b[0m in \u001b[0;36mdecode\u001b[0;34m(self, s, _w)\u001b[0m\n\u001b[1;32m    335\u001b[0m \u001b[0;34m\u001b[0m\u001b[0m\n\u001b[1;32m    336\u001b[0m         \"\"\"\n\u001b[0;32m--> 337\u001b[0;31m         \u001b[0mobj\u001b[0m\u001b[0;34m,\u001b[0m \u001b[0mend\u001b[0m \u001b[0;34m=\u001b[0m \u001b[0mself\u001b[0m\u001b[0;34m.\u001b[0m\u001b[0mraw_decode\u001b[0m\u001b[0;34m(\u001b[0m\u001b[0ms\u001b[0m\u001b[0;34m,\u001b[0m \u001b[0midx\u001b[0m\u001b[0;34m=\u001b[0m\u001b[0m_w\u001b[0m\u001b[0;34m(\u001b[0m\u001b[0ms\u001b[0m\u001b[0;34m,\u001b[0m \u001b[0;36m0\u001b[0m\u001b[0;34m)\u001b[0m\u001b[0;34m.\u001b[0m\u001b[0mend\u001b[0m\u001b[0;34m(\u001b[0m\u001b[0;34m)\u001b[0m\u001b[0;34m)\u001b[0m\u001b[0;34m\u001b[0m\u001b[0;34m\u001b[0m\u001b[0m\n\u001b[0m\u001b[1;32m    338\u001b[0m         \u001b[0mend\u001b[0m \u001b[0;34m=\u001b[0m \u001b[0m_w\u001b[0m\u001b[0;34m(\u001b[0m\u001b[0ms\u001b[0m\u001b[0;34m,\u001b[0m \u001b[0mend\u001b[0m\u001b[0;34m)\u001b[0m\u001b[0;34m.\u001b[0m\u001b[0mend\u001b[0m\u001b[0;34m(\u001b[0m\u001b[0;34m)\u001b[0m\u001b[0;34m\u001b[0m\u001b[0;34m\u001b[0m\u001b[0m\n\u001b[1;32m    339\u001b[0m         \u001b[0;32mif\u001b[0m \u001b[0mend\u001b[0m \u001b[0;34m!=\u001b[0m \u001b[0mlen\u001b[0m\u001b[0;34m(\u001b[0m\u001b[0ms\u001b[0m\u001b[0;34m)\u001b[0m\u001b[0;34m:\u001b[0m\u001b[0;34m\u001b[0m\u001b[0;34m\u001b[0m\u001b[0m\n",
      "\u001b[0;32m/opt/conda/lib/python3.7/json/decoder.py\u001b[0m in \u001b[0;36mraw_decode\u001b[0;34m(self, s, idx)\u001b[0m\n\u001b[1;32m    353\u001b[0m             \u001b[0mobj\u001b[0m\u001b[0;34m,\u001b[0m \u001b[0mend\u001b[0m \u001b[0;34m=\u001b[0m \u001b[0mself\u001b[0m\u001b[0;34m.\u001b[0m\u001b[0mscan_once\u001b[0m\u001b[0;34m(\u001b[0m\u001b[0ms\u001b[0m\u001b[0;34m,\u001b[0m \u001b[0midx\u001b[0m\u001b[0;34m)\u001b[0m\u001b[0;34m\u001b[0m\u001b[0;34m\u001b[0m\u001b[0m\n\u001b[1;32m    354\u001b[0m         \u001b[0;32mexcept\u001b[0m \u001b[0mStopIteration\u001b[0m \u001b[0;32mas\u001b[0m \u001b[0merr\u001b[0m\u001b[0;34m:\u001b[0m\u001b[0;34m\u001b[0m\u001b[0;34m\u001b[0m\u001b[0m\n\u001b[0;32m--> 355\u001b[0;31m             \u001b[0;32mraise\u001b[0m \u001b[0mJSONDecodeError\u001b[0m\u001b[0;34m(\u001b[0m\u001b[0;34m\"Expecting value\"\u001b[0m\u001b[0;34m,\u001b[0m \u001b[0ms\u001b[0m\u001b[0;34m,\u001b[0m \u001b[0merr\u001b[0m\u001b[0;34m.\u001b[0m\u001b[0mvalue\u001b[0m\u001b[0;34m)\u001b[0m \u001b[0;32mfrom\u001b[0m \u001b[0;32mNone\u001b[0m\u001b[0;34m\u001b[0m\u001b[0;34m\u001b[0m\u001b[0m\n\u001b[0m\u001b[1;32m    356\u001b[0m         \u001b[0;32mreturn\u001b[0m \u001b[0mobj\u001b[0m\u001b[0;34m,\u001b[0m \u001b[0mend\u001b[0m\u001b[0;34m\u001b[0m\u001b[0;34m\u001b[0m\u001b[0m\n",
      "\u001b[0;31mJSONDecodeError\u001b[0m: Expecting value: line 1 column 1 (char 0)"
     ]
    }
   ],
   "source": [
    "import json \n",
    "json.loads(str(soup))"
   ]
  },
  {
   "cell_type": "code",
   "execution_count": 28,
   "metadata": {},
   "outputs": [],
   "source": [
    "import os\n",
    "import sys\n",
    "import numpy as np\n",
    "\n",
    "import cv2\n",
    "from matplotlib.pyplot import imshow"
   ]
  },
  {
   "cell_type": "code",
   "execution_count": 29,
   "metadata": {},
   "outputs": [],
   "source": [
    "image=cv2.imread(\"8.jpg\",cv2.IMREAD_COLOR)"
   ]
  },
  {
   "cell_type": "code",
   "execution_count": 30,
   "metadata": {},
   "outputs": [
    {
     "data": {
      "text/plain": [
       "(1100, 730, 3)"
      ]
     },
     "execution_count": 30,
     "metadata": {},
     "output_type": "execute_result"
    }
   ],
   "source": [
    "image.shape"
   ]
  },
  {
   "cell_type": "code",
   "execution_count": 32,
   "metadata": {},
   "outputs": [],
   "source": [
    "image2=cv2.imread(\"temp.png\",cv2.IMREAD_COLOR)"
   ]
  },
  {
   "cell_type": "code",
   "execution_count": 37,
   "metadata": {},
   "outputs": [],
   "source": [
    "image2=image2[:1100,:,:]"
   ]
  },
  {
   "cell_type": "code",
   "execution_count": 34,
   "metadata": {},
   "outputs": [
    {
     "data": {
      "text/plain": [
       "<matplotlib.image.AxesImage at 0x7fc0e0c76f10>"
      ]
     },
     "execution_count": 34,
     "metadata": {},
     "output_type": "execute_result"
    },
    {
     "data": {
      "image/png": "[encoded data removed]",
      "text/plain": [
       "<Figure size 432x288 with 1 Axes>"
      ]
     },
     "metadata": {
      "needs_background": "light"
     },
     "output_type": "display_data"
    }
   ],
   "source": [
    "imshow(image)"
   ]
  },
  {
   "cell_type": "code",
   "execution_count": 38,
   "metadata": {},
   "outputs": [
    {
     "data": {
      "text/plain": [
       "<matplotlib.image.AxesImage at 0x7fc0d9fe9d90>"
      ]
     },
     "execution_count": 38,
     "metadata": {},
     "output_type": "execute_result"
    },
    {
     "data": {
      "image/png": "[encoded data removed]",
      "text/plain": [
       "<Figure size 432x288 with 1 Axes>"
      ]
     },
     "metadata": {
      "needs_background": "light"
     },
     "output_type": "display_data"
    }
   ],
   "source": [
    "imshow(image2)"
   ]
  },
  {
   "cell_type": "code",
   "execution_count": 43,
   "metadata": {},
   "outputs": [
    {
     "data": {
      "text/plain": [
       "array([[ 73, 130, 215, ..., 215, 130,  73],\n",
       "       [127, 255, 255, ..., 255, 255, 127],\n",
       "       [213, 255, 255, ..., 255, 255, 213],\n",
       "       ...,\n",
       "       [255, 255, 255, ..., 255, 255, 255],\n",
       "       [255, 255, 255, ..., 255, 255, 255],\n",
       "       [255, 255, 255, ..., 255, 255, 255]], dtype=uint8)"
      ]
     },
     "execution_count": 43,
     "metadata": {},
     "output_type": "execute_result"
    }
   ],
   "source": [
    "image2.T[0][0:100]"
   ]
  },
  {
   "cell_type": "code",
   "execution_count": null,
   "metadata": {},
   "outputs": [],
   "source": [
    "imshow(image.T[0][0:100,:])"
   ]
  },
  {
   "cell_type": "code",
   "execution_count": null,
   "metadata": {},
   "outputs": [],
   "source": [
    "imshow(image2.T[0][0:100,:])"
   ]
  },
  {
   "cell_type": "code",
   "execution_count": null,
   "metadata": {},
   "outputs": [],
   "source": [
    "imshow(image2.T[0][0:100,:]+(image.T[0][0:100,:]))"
   ]
  },
  {
   "cell_type": "code",
   "execution_count": 53,
   "metadata": {},
   "outputs": [
    {
     "data": {
      "text/plain": [
       "<matplotlib.image.AxesImage at 0x7fc0e0ccd590>"
      ]
     },
     "execution_count": 53,
     "metadata": {},
     "output_type": "execute_result"
    },
    {
     "data": {
      "image/png": "[encoded data removed]",
      "text/plain": [
       "<Figure size 432x288 with 1 Axes>"
      ]
     },
     "metadata": {
      "needs_background": "light"
     },
     "output_type": "display_data"
    }
   ],
   "source": [
    "imshow((image2+image))"
   ]
  },
  {
   "cell_type": "code",
   "execution_count": null,
   "metadata": {},
   "outputs": [],
   "source": []
  }
 ],
 "metadata": {
  "environment": {
   "name": "pytorch-gpu.1-4.m50",
   "type": "gcloud",
   "uri": "gcr.io/deeplearning-platform-release/pytorch-gpu.1-4:m50"
  },
  "kernelspec": {
   "display_name": "Python 3",
   "language": "python",
   "name": "python3"
  },
  "language_info": {
   "codemirror_mode": {
    "name": "ipython",
    "version": 3
   },
   "file_extension": ".py",
   "mimetype": "text/x-python",
   "name": "python",
   "nbconvert_exporter": "python",
   "pygments_lexer": "ipython3",
   "version": "3.7.6"
  }
 },
 "nbformat": 4,
 "nbformat_minor": 4
}
